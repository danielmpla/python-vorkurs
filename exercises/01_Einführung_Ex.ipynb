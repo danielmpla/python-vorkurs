{
 "cells": [
  {
   "cell_type": "markdown",
   "metadata": {},
   "source": [
    "# 1. Übung: Einführung\n",
    "\n",
    "- Zeit ca. 15 Minuten \n",
    "\n",
    "## Aufbau der Übungen\n",
    "\n",
    "- Eine Aufgabe besteht immer aus mindestens einer Eingabe-Zelle\n",
    "- In dieser Zelle wird bereits Code stehen\n",
    "- Diesen sollten Sie nicht ändern, da Sie sonst möglicherweiße die Aufgabe vereinfachen\n",
    "    - Möchten Sie alternative Lösungen testen oder andere Eingabewerte verwenden können Sie weitere Zellen einfügen\n",
    "    - Achten Sie dabei aber darauf, dass Variablen innerhalb eines Notebooks global sind und dadurch von Ihnen eventuell überschrieben werden\n",
    "    - **Falls es bei der Ausführung zu Problemen kommt, bzw. Sie eine andere Ausgabe erwarten sollten Sie zuerst den Kernel neu starten**\n",
    "        - **Kernel -> Restart Kernel** bzw. **Kernel -> Restart Kernel and Clear ...**\n",
    "- Falls unter einer Aufgaben-Zelle eine weitere Zelle mit `assert`-Statements ist, dient diese lediglich der Verfizierung Ihres Codes\n",
    "    - An dieser Zelle müssen Sie nichts ändern\n",
    "    - Wenn Sie diese Zelle ausführen und keine Ausgabe kommt ist alles i.O.\n",
    "    - Bei einer Ausgabe sehen Sie was falsch ist"
   ]
  },
  {
   "cell_type": "markdown",
   "source": [
    "In dieser Übung wollen wir uns mit den grundlegenden Funktionen von Python vertraut machen. "
   ],
   "metadata": {
    "collapsed": false
   }
  },
  {
   "cell_type": "markdown",
   "source": [
    "\n",
    "## Aufgabe 1: \n",
    "\n",
    "- Addieren Sie x und y und geben Sie die Summe aus\n",
    "- Dividieren Sie x durch y und geben Sie das gerundete Ergebnis aus"
   ],
   "metadata": {
    "collapsed": false
   }
  },
  {
   "cell_type": "code",
   "execution_count": null,
   "outputs": [],
   "source": [
    "x = \"42\"\n",
    "y = 39\n",
    "\n",
    "# Ihr Code ab hier:\n"
   ],
   "metadata": {
    "collapsed": false,
    "pycharm": {
     "name": "#%%\n"
    }
   }
  },
  {
   "cell_type": "markdown",
   "source": [
    "\n",
    "## Aufgabe 2:\n",
    "\n",
    "- Geben Sie den String \"Hello World!\" mit Hilfe der Variablen `s1`, `s2` und `s3` aus! "
   ],
   "metadata": {
    "collapsed": false
   }
  },
  {
   "cell_type": "code",
   "execution_count": null,
   "outputs": [],
   "source": [
    "s1 = \"Hello\"\n",
    "s2 = \"World\"\n",
    "s3 = \"!\"\n",
    "\n",
    "# Ihr Code ab hier:\n"
   ],
   "metadata": {
    "collapsed": false,
    "pycharm": {
     "name": "#%%\n"
    }
   }
  },
  {
   "cell_type": "markdown",
   "source": [
    "## Aufgabe 3: \n",
    "\n",
    "- Geben Sie die Zahlen 0 - 5 der Liste `numbers1` aus\n",
    "- Geben Sie die Zahlen 6 - 9 der Liste `numbers1` aus\n",
    "- Geben Sie die Zahlen mit Index 4 - 9 der Liste `numbers2` aus"
   ],
   "metadata": {
    "collapsed": false
   }
  },
  {
   "cell_type": "code",
   "execution_count": null,
   "outputs": [],
   "source": [
    "numbers1 = [0, 1, 2, 3, 4, 5, 6, 7, 8, 9]\n",
    "\n",
    "# Ihr Code ab hier:\n"
   ],
   "metadata": {
    "collapsed": false,
    "pycharm": {
     "name": "#%%\n"
    }
   }
  },
  {
   "cell_type": "code",
   "execution_count": null,
   "outputs": [],
   "source": [
    "numbers2 = [1, 2, 4, 8, 16, 32, 64, 128, 256, 512, 1024]\n",
    "\n",
    "# Ihr Code ab hier:\n"
   ],
   "metadata": {
    "collapsed": false,
    "pycharm": {
     "name": "#%%\n"
    }
   }
  },
  {
   "cell_type": "markdown",
   "source": [
    "\n",
    "## Aufgabe 4:\n",
    "\n",
    "- Geben Sie die Summe der Liste `summanden` aus\n",
    "- Geben Sie das Produkt der Liste `faktoren` aus"
   ],
   "metadata": {
    "collapsed": false
   }
  },
  {
   "cell_type": "code",
   "execution_count": null,
   "outputs": [],
   "source": [
    "summanden = [1, 2, 3, 4, 5, 6, 7, 8, 9, 10]\n",
    "\n",
    "# Ihr Code ab hier:\n"
   ],
   "metadata": {
    "collapsed": false,
    "pycharm": {
     "name": "#%%\n"
    }
   }
  },
  {
   "cell_type": "code",
   "execution_count": null,
   "outputs": [],
   "source": [
    "faktoren = [8, 7, 6, 5, 4, 3, 2, 1]\n",
    "\n",
    "# Ihr Code ab hier:\n"
   ],
   "metadata": {
    "collapsed": false,
    "pycharm": {
     "name": "#%%\n"
    }
   }
  }
 ],
 "metadata": {
  "kernelspec": {
   "display_name": "Python 3",
   "language": "python",
   "name": "python3"
  },
  "language_info": {
   "codemirror_mode": {
    "name": "ipython",
    "version": 3
   },
   "file_extension": ".py",
   "mimetype": "text/x-python",
   "name": "python",
   "nbconvert_exporter": "python",
   "pygments_lexer": "ipython3",
   "version": "3.6.7"
  },
  "pycharm": {
   "stem_cell": {
    "cell_type": "raw",
    "source": [],
    "metadata": {
     "collapsed": false
    }
   }
  }
 },
 "nbformat": 4,
 "nbformat_minor": 4
}