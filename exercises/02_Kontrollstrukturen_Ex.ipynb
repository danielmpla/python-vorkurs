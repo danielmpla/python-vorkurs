{
 "cells": [
  {
   "cell_type": "markdown",
   "metadata": {},
   "source": [
    "# 2. Übung: Kontrollstrukturen\n",
    "\n",
    "- Zeit ca. 20 Minuten \n",
    "\n",
    "## Aufbau der Übungen\n",
    "\n",
    "- Eine Aufgabe besteht immer aus mindestens einer Eingabe-Zelle\n",
    "- In dieser Zelle wird bereits Code stehen\n",
    "- Diesen sollten Sie nicht ändern, da Sie sonst möglicherweiße die Aufgabe vereinfachen\n",
    "    - Möchten Sie alternative Lösungen testen oder andere Eingabewerte verwenden können Sie weitere Zellen einfügen\n",
    "    - Achten Sie dabei aber darauf, dass Variablen innerhalb eines Notebooks global sind und dadurch von Ihnen eventuell überschrieben werden\n",
    "    - **Falls es bei der Ausführung zu Problemen kommt, bzw. Sie eine andere Ausgabe erwarten sollten Sie zuerst den Kernel neu starten**\n",
    "        - **Kernel -> Restart Kernel** bzw. **Kernel -> Restart Kernel and Clear ...**\n",
    "- Falls unter einer Aufgaben-Zelle eine weitere Zelle mit `assert`-Statements ist, dient diese lediglich der Verfizierung Ihres Codes\n",
    "    - An dieser Zelle müssen Sie nichts ändern\n",
    "    - Wenn Sie diese Zelle ausführen und keine Ausgabe kommt ist alles i.O.\n",
    "    - Bei einer Ausgabe sehen Sie was falsch ist"
   ]
  },
  {
   "cell_type": "markdown",
   "metadata": {},
   "source": [
    "\n",
    "## Aufgabe 1:\n",
    "\n",
    "- Erstellen Sie mit Hilfe von `if-else` Anweisungen einen Datums-String aus den Variablen `tag`, `monat` und `jahr`\n",
    "- Monat und Tag sollen mit führender 0 (bei Bedarf) geschrieben werden (siehe 2ten Codeblock)\n"
   ]
  },
  {
   "cell_type": "code",
   "execution_count": null,
   "metadata": {
    "collapsed": false,
    "jupyter": {
     "outputs_hidden": false
    },
    "pycharm": {
     "name": "#%%\n"
    }
   },
   "outputs": [],
   "source": [
    "def create_date_string(tag, monat, jahr):\n",
    "    result = ''\n",
    "    \n",
    "    # Ihr Code hier:\n",
    "    \n",
    "    return result"
   ]
  },
  {
   "cell_type": "code",
   "execution_count": null,
   "metadata": {
    "collapsed": false,
    "jupyter": {
     "outputs_hidden": false
    },
    "pycharm": {
     "name": "#%%\n"
    }
   },
   "outputs": [],
   "source": [
    "print(create_date_string(3, 9, 2019)) # 03.09.2019\n",
    "print(create_date_string(16, 9, 2019)) # 16.09.2019\n",
    "print(create_date_string(6, 12, 2019)) # 06.12.2019\n",
    "print(create_date_string(24, 12, 2019)) # 24.12.2019"
   ]
  },
  {
   "cell_type": "markdown",
   "metadata": {},
   "source": [
    "## Aufgabe 2:\n",
    "\n",
    "- Erstellen Sie mit Hilfe von `if-elif-else` Anweisungen einen Datums-String aus den Variablen `tag`, `monat` und `jahr`\n",
    "- Tag soll mit führender 0 (bei Bedarf) geschrieben werden (siehe 2ten Codeblock)\n",
    "- Monat soll in den Namen des Monats umgewandelt werden (siehe 2ten Codeblock)"
   ]
  },
  {
   "cell_type": "code",
   "execution_count": null,
   "metadata": {
    "collapsed": false,
    "jupyter": {
     "outputs_hidden": false
    },
    "pycharm": {
     "name": "#%%\n"
    }
   },
   "outputs": [],
   "source": [
    "def create_date_string_with_month_name(tag, monat, jahr):\n",
    "    result = ''\n",
    "    \n",
    "    # Ihr Code hier:\n",
    "    \n",
    "    return result"
   ]
  },
  {
   "cell_type": "code",
   "execution_count": null,
   "metadata": {
    "collapsed": false,
    "jupyter": {
     "outputs_hidden": false
    },
    "pycharm": {
     "name": "#%%\n"
    }
   },
   "outputs": [],
   "source": [
    "print(create_date_string_with_month_name(3, 9, 2019)) # 03. September 2019\n",
    "print(create_date_string_with_month_name(16, 8, 2019)) # 16. August 2019\n",
    "print(create_date_string_with_month_name(6, 7, 2019)) # 06. Juli 2019\n",
    "print(create_date_string_with_month_name(24, 1, 2019)) # 24. Januar 2019"
   ]
  },
  {
   "cell_type": "markdown",
   "metadata": {},
   "source": [
    "\n",
    "## Aufgabe 3:\n",
    "\n",
    "- Vervollständigen Sie die Funktion zur Berechnung der Fakultät\n",
    "- Beispiel: 5! = 5 * 4 * 3 * 2 * 1"
   ]
  },
  {
   "cell_type": "code",
   "execution_count": null,
   "metadata": {
    "collapsed": false,
    "jupyter": {
     "outputs_hidden": false
    },
    "pycharm": {
     "name": "#%%\n"
    }
   },
   "outputs": [],
   "source": [
    "def fakultät(n):\n",
    "    result = 1\n",
    "    \n",
    "    # Ihr Code hier:\n",
    "    \n",
    "    return result"
   ]
  },
  {
   "cell_type": "code",
   "execution_count": null,
   "metadata": {
    "collapsed": false,
    "jupyter": {
     "outputs_hidden": false
    },
    "pycharm": {
     "name": "#%%\n"
    }
   },
   "outputs": [],
   "source": [
    "print(fakultät(5)) # 120"
   ]
  },
  {
   "cell_type": "markdown",
   "metadata": {},
   "source": [
    "\n",
    "## Aufgabe 4:\n",
    "\n",
    "- Geben Sie die Fakultät für die Zahlen 1 - 20 aus"
   ]
  },
  {
   "cell_type": "code",
   "execution_count": null,
   "metadata": {
    "collapsed": false,
    "jupyter": {
     "outputs_hidden": false
    },
    "pycharm": {
     "name": "#%%\n"
    }
   },
   "outputs": [],
   "source": [
    "# Ihr Code hier:"
   ]
  },
  {
   "cell_type": "markdown",
   "metadata": {},
   "source": [
    "\n",
    "## Aufgabe 5:\n",
    "\n",
    "- Erstellen Sie ein Quadrat aus `#`\n",
    "- Zum Beispiel:\n",
    "\n",
    "```python\n",
    "#  #  #  #\n",
    "#  #  #  #\n",
    "#  #  #  #\n",
    "#  #  #  #\n",
    "```"
   ]
  },
  {
   "cell_type": "code",
   "execution_count": null,
   "metadata": {
    "collapsed": false,
    "jupyter": {
     "outputs_hidden": false
    },
    "pycharm": {
     "name": "#%%\n"
    }
   },
   "outputs": [],
   "source": [
    "def print_square(n):\n",
    "    result_string = ''\n",
    "\n",
    "    # Ihr Code hier:\n",
    "\n",
    "    print(result_string)"
   ]
  },
  {
   "cell_type": "code",
   "execution_count": null,
   "metadata": {
    "collapsed": false,
    "jupyter": {
     "outputs_hidden": false
    },
    "pycharm": {
     "name": "#%%\n"
    }
   },
   "outputs": [],
   "source": [
    "print_square(5)\n",
    "print('\\n')\n",
    "print_square(10)"
   ]
  },
  {
   "cell_type": "markdown",
   "metadata": {},
   "source": [
    "## Aufgabe 6:\n",
    "\n",
    "- Erstellen Sie eine neue sortierte Liste mit den Werten aus `unsorted_list` und geben Sie diese aus"
   ]
  },
  {
   "cell_type": "code",
   "execution_count": null,
   "metadata": {
    "collapsed": false,
    "jupyter": {
     "outputs_hidden": false
    },
    "pycharm": {
     "name": "#%%\n"
    }
   },
   "outputs": [],
   "source": [
    "def sort_list(unsorted_list):\n",
    "    sorted_list = []\n",
    "    \n",
    "    # Ihr Code hier:\n",
    "    \n",
    "    print(sorted_list)"
   ]
  },
  {
   "cell_type": "code",
   "execution_count": null,
   "metadata": {
    "collapsed": false,
    "jupyter": {
     "outputs_hidden": false
    },
    "pycharm": {
     "name": "#%%\n"
    }
   },
   "outputs": [],
   "source": [
    "sort_list([i for i in range(10, 0, -1)])\n",
    "sort_list([5, 8, 6, 2, 3, 7, 1, 9, 4])"
   ]
  }
 ],
 "metadata": {
  "kernelspec": {
   "display_name": "Python 3",
   "language": "python",
   "name": "python3"
  },
  "language_info": {
   "codemirror_mode": {
    "name": "ipython",
    "version": 3
   },
   "file_extension": ".py",
   "mimetype": "text/x-python",
   "name": "python",
   "nbconvert_exporter": "python",
   "pygments_lexer": "ipython3",
   "version": "3.6.7"
  },
  "pycharm": {
   "stem_cell": {
    "cell_type": "raw",
    "metadata": {
     "collapsed": false
    },
    "source": []
   }
  }
 },
 "nbformat": 4,
 "nbformat_minor": 4
}
