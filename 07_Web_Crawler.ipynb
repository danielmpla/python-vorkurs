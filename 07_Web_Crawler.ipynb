{
 "cells": [
  {
   "cell_type": "markdown",
   "metadata": {},
   "source": [
    "# 7. Web-Crawler"
   ]
  },
  {
   "cell_type": "markdown",
   "metadata": {},
   "source": [
    "Hinweis: Web-Crawling ist in Deutschland generell verboten. Daher ist es wichtig vorher immer mit dem Webseitenbetreiber zu sprechen, ob und wie Ihr die Seite crawlen dürft. (Dabei solltet Ihr auf eine schriftliche Zusage bestehen). https://drschwenke.de/social-media-monitoring-recht-teil-10-leistungsschutzrecht-cashcowpresseverlage/"
   ]
  },
  {
   "cell_type": "markdown",
   "metadata": {},
   "source": [
    "- http://python-requests.org\n",
    "\n",
    "- https://www.hszg.de/hochschule/aktuelles/neuigkeiten.html"
   ]
  },
  {
   "cell_type": "code",
   "execution_count": 1,
   "metadata": {},
   "outputs": [],
   "source": [
    "import requests"
   ]
  },
  {
   "cell_type": "code",
   "execution_count": 2,
   "metadata": {},
   "outputs": [],
   "source": [
    "site = requests.get(\"https://www.hszg.de/hochschule/aktuelles/neuigkeiten.html\")"
   ]
  },
  {
   "cell_type": "code",
   "execution_count": 3,
   "metadata": {},
   "outputs": [
    {
     "name": "stdout",
     "output_type": "stream",
     "text": [
      "<Response [200]>\n"
     ]
    }
   ],
   "source": [
    "print(site)"
   ]
  },
  {
   "cell_type": "markdown",
   "metadata": {},
   "source": [
    "- https://de.wikipedia.org/wiki/HTTP-Statuscode"
   ]
  },
  {
   "cell_type": "code",
   "execution_count": 4,
   "metadata": {},
   "outputs": [
    {
     "name": "stdout",
     "output_type": "stream",
     "text": [
      "200\n",
      "{'Server': 'nginx/1.16.0', 'Date': 'Wed, 16 Sep 2020 07:41:58 GMT', 'Content-Type': 'text/html; charset=utf-8', 'Content-Length': '25292', 'Connection': 'keep-alive', 'Content-Language': 'de', 'Expires': 'Thu, 17 Sep 2020 06:17:53 GMT', 'Cache-Control': 'max-age=81356', 'Pragma': 'public', 'Content-Encoding': 'gzip', 'Vary': 'Accept-Encoding', 'ETag': '\"388f566cb2e9b71e551f2b03bde1334a\"', 'Access-Control-Allow-Origin': '*', 'Access-Control-Allow-Methods': 'GET, POST, OPTIONS', 'Access-Control-Allow-Headers': 'DNT,User-Agent,X-Requested-With,If-Modified-Since,Cache-Control,Content-Type,Range'}\n",
      "Typ: text/html\n"
     ]
    }
   ],
   "source": [
    "print(site.status_code)\n",
    "print(site.headers)\n",
    "print(\"Typ:\", site.headers[\"Content-Type\"].split(\";\")[0])"
   ]
  },
  {
   "cell_type": "markdown",
   "metadata": {},
   "source": [
    "`pip install beautifulsoup4`"
   ]
  },
  {
   "cell_type": "code",
   "execution_count": 5,
   "metadata": {},
   "outputs": [],
   "source": [
    "from bs4 import BeautifulSoup"
   ]
  },
  {
   "cell_type": "code",
   "execution_count": 6,
   "metadata": {},
   "outputs": [],
   "source": [
    "doc = BeautifulSoup(site.text, \"html.parser\")"
   ]
  },
  {
   "cell_type": "code",
   "execution_count": 7,
   "metadata": {},
   "outputs": [],
   "source": [
    "news = doc.select(\".news-article\")"
   ]
  },
  {
   "cell_type": "code",
   "execution_count": 8,
   "metadata": {},
   "outputs": [
    {
     "name": "stdout",
     "output_type": "stream",
     "text": [
      "[<h3 class=\"news-article__title\"><span itemprop=\"headline\">Bewerbungszeitraum verlängert</span></h3>]\n",
      "[<h3 class=\"news-article__title\"><span itemprop=\"headline\">Launch des neuen VATI-Navigators</span></h3>]\n",
      "[<h3 class=\"news-article__title\"><span itemprop=\"headline\">Online first </span></h3>]\n",
      "[<h3 class=\"news-article__title\"><span itemprop=\"headline\">Neue Referentin an der HSZG</span></h3>]\n",
      "[<h3 class=\"news-article__title\"><span itemprop=\"headline\">WING hebt ab </span></h3>]\n",
      "[<h3 class=\"news-article__title\"><span itemprop=\"headline\">Neuer Hochschulrat tagt erstmalig!</span></h3>]\n",
      "[<h3 class=\"news-article__title\"><span itemprop=\"headline\">Religion als Integrationsressource</span></h3>]\n",
      "[<h3 class=\"news-article__title\"><span itemprop=\"headline\">Filmakademie Görlitz nimmt Form an</span></h3>]\n",
      "[<h3 class=\"news-article__title\"><span itemprop=\"headline\">Aktuelle Informationen zum Coronavirus</span></h3>]\n",
      "[<h3 class=\"news-article__title\"><span itemprop=\"headline\">Studierenden-Podcast aus dem Home-Office</span></h3>]\n"
     ]
    }
   ],
   "source": [
    "for item in news:\n",
    "    print(item.select(\".news-article__title\"))"
   ]
  },
  {
   "cell_type": "code",
   "execution_count": 9,
   "metadata": {},
   "outputs": [
    {
     "name": "stdout",
     "output_type": "stream",
     "text": [
      "Bewerbungszeitraum verlängert: \n",
      "Für NC-freie Studiengänge kann man sich noch bis zum 15.09. bewerben.\n",
      "https://www.hszg.de/news/bewerbungszeitraum-verlaengert.html\n",
      "--- --- ---\n",
      "Launch des neuen VATI-Navigators: \n",
      "Digitales, regional integriertes Kommunikations- und Servicenetzwerk zur Inklusion älterer Menschen geht online.\n",
      "https://www.hszg.de/news/launch-des-neuen-vati-navigators-1.html\n",
      "--- --- ---\n",
      "Online first : \n",
      "Pre-Conference der Ingenieurpädagogischen Jahrestagung findet im Oktober online statt.\n",
      "https://www.hszg.de/news/online-first.html\n",
      "--- --- ---\n",
      "Neue Referentin an der HSZG: \n",
      "Almuth Müller übernimmt künftig die Führung des Büros des Rektors. Sie hat osteuropäische Erfahrungen, als Hochschuldozentin und Projektmitarbeiterin gearbeitet und freut sich auf die neue Herausforderung.\n",
      "https://www.hszg.de/news/neue-referentin-an-der-hszg.html\n",
      "--- --- ---\n",
      "WING hebt ab : \n",
      "Digitale Transformation im Wirtschaftsingenieurwesen - Zukunftsorientierte Weiterentwicklung des Studiengangs.\n",
      "https://www.hszg.de/news/wing-hebt-ab.html\n",
      "--- --- ---\n",
      "Neuer Hochschulrat tagt erstmalig!: \n",
      "Das Gremium verständigt sich über Arbeitsweise und Zielsetzungen für die kommenden fünf Jahre.\n",
      "https://www.hszg.de/news/neuer-hochschulrat-tagt-erstmalig.html\n",
      "--- --- ---\n",
      "Religion als Integrationsressource: \n",
      "Ab 04. September 2020 startet die Veranstaltungsreihe „Religion und Gesellschaft - Gespalten oder doch vereint?“, eine Weiterbildungsreihe des TRAWOS-Institutes der Hochschule Zittau/Görlitz in Kooperation mit dem vhs Görlitz e. V.\n",
      "https://www.hszg.de/news/religion-als-integrationsressource.html\n",
      "--- --- ---\n",
      "Filmakademie Görlitz nimmt Form an: \n",
      "Beim gestrigen Workshop in Görlitz entstand ein gemeinsames Konzept.\n",
      "https://www.hszg.de/news/filmakademie-goerlitz-nimmt-form-an.html\n",
      "--- --- ---\n",
      "Aktuelle Informationen zum Coronavirus: \n",
      "Letztes Update 13.07.2020 - Seite wird regelmäßig aktualisiert.\n",
      "https://www.hszg.de/news/aktuelle-informationen-zum-coronavirus.html\n",
      "--- --- ---\n",
      "Studierenden-Podcast aus dem Home-Office: \n",
      "Vier Kommunikationspsychologen berichten, wie sie und andere mit den Herausforderungen des virtuellen Semesters umgehen.\n",
      "https://www.hszg.de/news/studierenden-podcast-aus-dem-home-office.html\n",
      "--- --- ---\n"
     ]
    }
   ],
   "source": [
    "for item in news:\n",
    "    title = item.select_one(\".news-article__title\").contents[0].contents[0]\n",
    "    content = item.select_one(\".news-article__teaser\").contents[0].strip()\n",
    "    article = item.select_one(\".news-article__text\").contents[0].attrs[\"href\"]\n",
    "    \n",
    "    print(title + \": \")\n",
    "    print(content)\n",
    "    print(article)\n",
    "    print(\"--- --- ---\")"
   ]
  },
  {
   "cell_type": "markdown",
   "metadata": {},
   "source": [
    "Eigenständig Datum der Veröffentlichung."
   ]
  },
  {
   "cell_type": "code",
   "execution_count": 10,
   "metadata": {},
   "outputs": [
    {
     "name": "stdout",
     "output_type": "stream",
     "text": [
      "[Bewerbungszeitraum verlängert: \n",
      "Für NC-freie Studiengänge kann man sich noch bis zum 15.09. bewerben.\n",
      "https://www.hszg.de/news/bewerbungszeitraum-verlaengert.html\n",
      "--- --- ---\n",
      ", Launch des neuen VATI-Navigators: \n",
      "Digitales, regional integriertes Kommunikations- und Servicenetzwerk zur Inklusion älterer Menschen geht online.\n",
      "https://www.hszg.de/news/launch-des-neuen-vati-navigators-1.html\n",
      "--- --- ---\n",
      ", Online first : \n",
      "Pre-Conference der Ingenieurpädagogischen Jahrestagung findet im Oktober online statt.\n",
      "https://www.hszg.de/news/online-first.html\n",
      "--- --- ---\n",
      ", Neue Referentin an der HSZG: \n",
      "Almuth Müller übernimmt künftig die Führung des Büros des Rektors. Sie hat osteuropäische Erfahrungen, als Hochschuldozentin und Projektmitarbeiterin gearbeitet und freut sich auf die neue Herausforderung.\n",
      "https://www.hszg.de/news/neue-referentin-an-der-hszg.html\n",
      "--- --- ---\n",
      ", WING hebt ab : \n",
      "Digitale Transformation im Wirtschaftsingenieurwesen - Zukunftsorientierte Weiterentwicklung des Studiengangs.\n",
      "https://www.hszg.de/news/wing-hebt-ab.html\n",
      "--- --- ---\n",
      ", Neuer Hochschulrat tagt erstmalig!: \n",
      "Das Gremium verständigt sich über Arbeitsweise und Zielsetzungen für die kommenden fünf Jahre.\n",
      "https://www.hszg.de/news/neuer-hochschulrat-tagt-erstmalig.html\n",
      "--- --- ---\n",
      ", Religion als Integrationsressource: \n",
      "Ab 04. September 2020 startet die Veranstaltungsreihe „Religion und Gesellschaft - Gespalten oder doch vereint?“, eine Weiterbildungsreihe des TRAWOS-Institutes der Hochschule Zittau/Görlitz in Kooperation mit dem vhs Görlitz e. V.\n",
      "https://www.hszg.de/news/religion-als-integrationsressource.html\n",
      "--- --- ---\n",
      ", Filmakademie Görlitz nimmt Form an: \n",
      "Beim gestrigen Workshop in Görlitz entstand ein gemeinsames Konzept.\n",
      "https://www.hszg.de/news/filmakademie-goerlitz-nimmt-form-an.html\n",
      "--- --- ---\n",
      ", Aktuelle Informationen zum Coronavirus: \n",
      "Letztes Update 13.07.2020 - Seite wird regelmäßig aktualisiert.\n",
      "https://www.hszg.de/news/aktuelle-informationen-zum-coronavirus.html\n",
      "--- --- ---\n",
      ", Studierenden-Podcast aus dem Home-Office: \n",
      "Vier Kommunikationspsychologen berichten, wie sie und andere mit den Herausforderungen des virtuellen Semesters umgehen.\n",
      "https://www.hszg.de/news/studierenden-podcast-aus-dem-home-office.html\n",
      "--- --- ---\n",
      "]\n"
     ]
    }
   ],
   "source": [
    "class Article():\n",
    "    def __init__(self, title, content, article_link):\n",
    "        self.title = title\n",
    "        self.content = content\n",
    "        self.article_link = article_link\n",
    "        \n",
    "    def __str__(self):\n",
    "        return self.title + \": \\n\" + self.content + \"\\n\" + self.article_link + \"\\n--- --- ---\\n\"\n",
    "        \n",
    "    def __repr__(self):\n",
    "        return self.__str__()\n",
    "        \n",
    "class ArticleFetcher():\n",
    "    def fetch(self):\n",
    "        articles = []\n",
    "        \n",
    "        for item in news:\n",
    "            title = item.select_one(\".news-article__title\").contents[0].contents[0]\n",
    "            content = item.select_one(\".news-article__teaser\").contents[0].strip()\n",
    "            article = item.select_one(\".news-article__text\").contents[0].attrs[\"href\"]\n",
    "            \n",
    "            articles.append(Article(title, content, article))\n",
    "            \n",
    "        return articles\n",
    "    \n",
    "\n",
    "fetcher = ArticleFetcher()\n",
    "\n",
    "articles = fetcher.fetch()\n",
    "\n",
    "print(articles)"
   ]
  },
  {
   "cell_type": "markdown",
   "metadata": {},
   "source": [
    "- bei Links mit z.B. ./img/1.png urllib.parse.urljoin(url, imagelink)"
   ]
  },
  {
   "cell_type": "markdown",
   "metadata": {},
   "source": [
    "- Web-Crawler als Python-Projekt\n",
    "- Web-Crawler auf dem System als Library installieren"
   ]
  },
  {
   "cell_type": "markdown",
   "metadata": {},
   "source": [
    "- setup.py von Pycharm erstellen lassen\n",
    "- setup.py mit parameter install ausführen\n",
    "- import crawler (name des modules nicht des package-names)"
   ]
  }
 ],
 "metadata": {
  "kernelspec": {
   "display_name": "Python 3",
   "language": "python",
   "name": "python3"
  },
  "language_info": {
   "codemirror_mode": {
    "name": "ipython",
    "version": 3
   },
   "file_extension": ".py",
   "mimetype": "text/x-python",
   "name": "python",
   "nbconvert_exporter": "python",
   "pygments_lexer": "ipython3",
   "version": "3.7.7"
  }
 },
 "nbformat": 4,
 "nbformat_minor": 4
}
