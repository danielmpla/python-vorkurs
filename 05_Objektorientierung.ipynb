{
 "cells": [
  {
   "cell_type": "markdown",
   "metadata": {},
   "source": [
    "# 5. Objektorientierung"
   ]
  },
  {
   "cell_type": "markdown",
   "metadata": {},
   "source": [
    "## Inhalt\n",
    "\n",
    "- Einführung\n",
    "    - Kapseln von Daten\n",
    "- Klassen erstellen\n",
    "- Konstruktor\n",
    "- Felder/Eigenschaften\n",
    "- Methoden\n",
    "- private/public\n",
    "- Vererbung\n",
    "- Konventionen\n",
    "- statische Variablen\n",
    "- Module\n",
    "    - Code aus seperater Datei laden\n",
    "    - verschiedene Import-Möglichkeiten für Module\n",
    "    - Module in einem Ordner erstellen\n",
    "- Verwendung eines Moduls\n",
    "    - Mithilfe von Dokumentationen\n",
    "    - z.B. zum Einlesen einer CSV-Datei"
   ]
  },
  {
   "cell_type": "code",
   "execution_count": 1,
   "metadata": {},
   "outputs": [
    {
     "name": "stdout",
     "output_type": "stream",
     "text": [
      "Eric Mustermann\n"
     ]
    }
   ],
   "source": [
    "class Student():\n",
    "    pass\n",
    "\n",
    "def print_full_name(student):\n",
    "    print(student.first_name + \" \" + student.last_name)\n",
    "\n",
    "eric = Student()\n",
    "\n",
    "eric.first_name = \"Eric\"\n",
    "eric.last_name = \"Mustermann\"\n",
    "\n",
    "print_full_name(eric)"
   ]
  },
  {
   "cell_type": "code",
   "execution_count": 2,
   "metadata": {},
   "outputs": [
    {
     "name": "stdout",
     "output_type": "stream",
     "text": [
      "188250 Einführung in die Programmierung\n"
     ]
    }
   ],
   "source": [
    "class Subject():\n",
    "    pass\n",
    "\n",
    "def print_full_name(subject):\n",
    "    print(str(subject.modul_number) + \" \" + subject.name)\n",
    "\n",
    "einf = Subject()\n",
    "\n",
    "einf.name = \"Einführung in die Programmierung\"\n",
    "einf.modul_number = 188250\n",
    "\n",
    "print_full_name(einf)"
   ]
  },
  {
   "cell_type": "code",
   "execution_count": 3,
   "metadata": {},
   "outputs": [
    {
     "ename": "AttributeError",
     "evalue": "'Student' object has no attribute 'modul_number'",
     "output_type": "error",
     "traceback": [
      "\u001b[0;31m---------------------------------------------------------------------------\u001b[0m",
      "\u001b[0;31mAttributeError\u001b[0m                            Traceback (most recent call last)",
      "\u001b[0;32m<ipython-input-3-af7b7869c60a>\u001b[0m in \u001b[0;36m<module>\u001b[0;34m\u001b[0m\n\u001b[0;32m----> 1\u001b[0;31m \u001b[0mprint_full_name\u001b[0m\u001b[0;34m(\u001b[0m\u001b[0meric\u001b[0m\u001b[0;34m)\u001b[0m\u001b[0;34m\u001b[0m\u001b[0;34m\u001b[0m\u001b[0m\n\u001b[0m",
      "\u001b[0;32m<ipython-input-2-ad26dbc2e06a>\u001b[0m in \u001b[0;36mprint_full_name\u001b[0;34m(subject)\u001b[0m\n\u001b[1;32m      3\u001b[0m \u001b[0;34m\u001b[0m\u001b[0m\n\u001b[1;32m      4\u001b[0m \u001b[0;32mdef\u001b[0m \u001b[0mprint_full_name\u001b[0m\u001b[0;34m(\u001b[0m\u001b[0msubject\u001b[0m\u001b[0;34m)\u001b[0m\u001b[0;34m:\u001b[0m\u001b[0;34m\u001b[0m\u001b[0;34m\u001b[0m\u001b[0m\n\u001b[0;32m----> 5\u001b[0;31m     \u001b[0mprint\u001b[0m\u001b[0;34m(\u001b[0m\u001b[0mstr\u001b[0m\u001b[0;34m(\u001b[0m\u001b[0msubject\u001b[0m\u001b[0;34m.\u001b[0m\u001b[0mmodul_number\u001b[0m\u001b[0;34m)\u001b[0m \u001b[0;34m+\u001b[0m \u001b[0;34m\" \"\u001b[0m \u001b[0;34m+\u001b[0m \u001b[0msubject\u001b[0m\u001b[0;34m.\u001b[0m\u001b[0mname\u001b[0m\u001b[0;34m)\u001b[0m\u001b[0;34m\u001b[0m\u001b[0;34m\u001b[0m\u001b[0m\n\u001b[0m\u001b[1;32m      6\u001b[0m \u001b[0;34m\u001b[0m\u001b[0m\n\u001b[1;32m      7\u001b[0m \u001b[0meinf\u001b[0m \u001b[0;34m=\u001b[0m \u001b[0mSubject\u001b[0m\u001b[0;34m(\u001b[0m\u001b[0;34m)\u001b[0m\u001b[0;34m\u001b[0m\u001b[0;34m\u001b[0m\u001b[0m\n",
      "\u001b[0;31mAttributeError\u001b[0m: 'Student' object has no attribute 'modul_number'"
     ]
    }
   ],
   "source": [
    "print_full_name(eric)"
   ]
  },
  {
   "cell_type": "code",
   "execution_count": 9,
   "metadata": {},
   "outputs": [
    {
     "name": "stdout",
     "output_type": "stream",
     "text": [
      "Eric Mustermann\n"
     ]
    }
   ],
   "source": [
    "class Student():\n",
    "    def full_name(self):\n",
    "        print(self.first_name + \" \" + self.last_name)\n",
    "    \n",
    "\n",
    "eric = Student()\n",
    "\n",
    "eric.first_name = \"Eric\"\n",
    "eric.last_name = \"Mustermann\"\n",
    "\n",
    "eric.full_name()"
   ]
  },
  {
   "cell_type": "code",
   "execution_count": 10,
   "metadata": {},
   "outputs": [
    {
     "name": "stdout",
     "output_type": "stream",
     "text": [
      "188250 Einführung in die Programmierung\n",
      "Eric Mustermann\n"
     ]
    }
   ],
   "source": [
    "class Subject():\n",
    "    def full_name(self):\n",
    "        print(str(self.modul_number) + \" \" + self.name)\n",
    "\n",
    "        \n",
    "einf = Subject()\n",
    "\n",
    "einf.name = \"Einführung in die Programmierung\"\n",
    "einf.modul_number = 188250\n",
    "\n",
    "einf.full_name()\n",
    "eric.full_name()"
   ]
  },
  {
   "cell_type": "code",
   "execution_count": 11,
   "metadata": {},
   "outputs": [
    {
     "name": "stdout",
     "output_type": "stream",
     "text": [
      "Eric Mustermann\n",
      "Eric Mustermann\n",
      "Eric Mustermann\n",
      "Eric Mustermann\n",
      "Eric Mustermann\n",
      "188250 Einführung in die Programmierung\n",
      "188250 Einführung in die Programmierung\n",
      "188250 Einführung in die Programmierung\n",
      "188250 Einführung in die Programmierung\n",
      "188250 Einführung in die Programmierung\n"
     ]
    }
   ],
   "source": [
    "def print_name_5_times(c):\n",
    "    for i in range(5):\n",
    "        c.full_name()\n",
    "        \n",
    "print_name_5_times(eric)\n",
    "print_name_5_times(einf)"
   ]
  },
  {
   "cell_type": "code",
   "execution_count": 12,
   "metadata": {
    "slideshow": {
     "slide_type": "skip"
    }
   },
   "outputs": [
    {
     "name": "stdin",
     "output_type": "stream",
     "text": [
      "Once deleted, variables cannot be recovered. Proceed (y/[n])?  y\n"
     ]
    }
   ],
   "source": [
    "%reset"
   ]
  },
  {
   "cell_type": "code",
   "execution_count": 13,
   "metadata": {},
   "outputs": [
    {
     "ename": "AttributeError",
     "evalue": "'Student' object has no attribute 'last_name'",
     "output_type": "error",
     "traceback": [
      "\u001b[0;31m---------------------------------------------------------------------------\u001b[0m",
      "\u001b[0;31mAttributeError\u001b[0m                            Traceback (most recent call last)",
      "\u001b[0;32m<ipython-input-13-1ca47c5cf606>\u001b[0m in \u001b[0;36m<module>\u001b[0;34m\u001b[0m\n\u001b[1;32m      8\u001b[0m \u001b[0meric\u001b[0m\u001b[0;34m.\u001b[0m\u001b[0mfirst_name\u001b[0m \u001b[0;34m=\u001b[0m \u001b[0;34m\"Eric\"\u001b[0m\u001b[0;34m\u001b[0m\u001b[0;34m\u001b[0m\u001b[0m\n\u001b[1;32m      9\u001b[0m \u001b[0;34m\u001b[0m\u001b[0m\n\u001b[0;32m---> 10\u001b[0;31m \u001b[0meric\u001b[0m\u001b[0;34m.\u001b[0m\u001b[0mfull_name\u001b[0m\u001b[0;34m(\u001b[0m\u001b[0;34m)\u001b[0m\u001b[0;34m\u001b[0m\u001b[0;34m\u001b[0m\u001b[0m\n\u001b[0m",
      "\u001b[0;32m<ipython-input-13-1ca47c5cf606>\u001b[0m in \u001b[0;36mfull_name\u001b[0;34m(self)\u001b[0m\n\u001b[1;32m      1\u001b[0m \u001b[0;32mclass\u001b[0m \u001b[0mStudent\u001b[0m\u001b[0;34m(\u001b[0m\u001b[0;34m)\u001b[0m\u001b[0;34m:\u001b[0m\u001b[0;34m\u001b[0m\u001b[0;34m\u001b[0m\u001b[0m\n\u001b[1;32m      2\u001b[0m     \u001b[0;32mdef\u001b[0m \u001b[0mfull_name\u001b[0m\u001b[0;34m(\u001b[0m\u001b[0mself\u001b[0m\u001b[0;34m)\u001b[0m\u001b[0;34m:\u001b[0m\u001b[0;34m\u001b[0m\u001b[0;34m\u001b[0m\u001b[0m\n\u001b[0;32m----> 3\u001b[0;31m         \u001b[0mprint\u001b[0m\u001b[0;34m(\u001b[0m\u001b[0mself\u001b[0m\u001b[0;34m.\u001b[0m\u001b[0mfirst_name\u001b[0m \u001b[0;34m+\u001b[0m \u001b[0;34m\" \"\u001b[0m \u001b[0;34m+\u001b[0m \u001b[0mself\u001b[0m\u001b[0;34m.\u001b[0m\u001b[0mlast_name\u001b[0m\u001b[0;34m)\u001b[0m\u001b[0;34m\u001b[0m\u001b[0;34m\u001b[0m\u001b[0m\n\u001b[0m\u001b[1;32m      4\u001b[0m \u001b[0;34m\u001b[0m\u001b[0m\n\u001b[1;32m      5\u001b[0m \u001b[0;34m\u001b[0m\u001b[0m\n",
      "\u001b[0;31mAttributeError\u001b[0m: 'Student' object has no attribute 'last_name'"
     ]
    }
   ],
   "source": [
    "class Student():\n",
    "    def full_name(self):\n",
    "        print(self.first_name + \" \" + self.last_name)\n",
    "    \n",
    "\n",
    "eric = Student()\n",
    "\n",
    "eric.first_name = \"Eric\"\n",
    "\n",
    "eric.full_name()"
   ]
  },
  {
   "cell_type": "code",
   "execution_count": 14,
   "metadata": {
    "slideshow": {
     "slide_type": "skip"
    }
   },
   "outputs": [
    {
     "name": "stdin",
     "output_type": "stream",
     "text": [
      "Once deleted, variables cannot be recovered. Proceed (y/[n])?  <\n",
      "Once deleted, variables cannot be recovered. Proceed (y/[n])?  y\n"
     ]
    }
   ],
   "source": [
    "%reset"
   ]
  },
  {
   "cell_type": "code",
   "execution_count": 22,
   "metadata": {},
   "outputs": [
    {
     "name": "stdout",
     "output_type": "stream",
     "text": [
      "Eric Mustermann\n"
     ]
    }
   ],
   "source": [
    "class Student():\n",
    "    def __init__(self, first_name, last_name):\n",
    "        self.first_name = first_name\n",
    "        self.last_name = last_name\n",
    "        \n",
    "    def full_name(self):\n",
    "        print(self.first_name + \" \" + self.last_name )\n",
    "        \n",
    "        \n",
    "eric = Student(\"Eric\", \"Mustermann\")\n",
    "eric.full_name()"
   ]
  },
  {
   "cell_type": "code",
   "execution_count": 23,
   "metadata": {},
   "outputs": [
    {
     "name": "stdout",
     "output_type": "stream",
     "text": [
      "Eric Mustermann in Semester 1\n"
     ]
    }
   ],
   "source": [
    "class Student():\n",
    "    def __init__(self, first_name, last_name):\n",
    "        self.first_name = first_name\n",
    "        self.last_name = last_name\n",
    "        self.term = 1\n",
    "        \n",
    "    def full_name(self):\n",
    "        print(self.first_name + \" \" + self.last_name + \" in Semester \" + str(self.term))\n",
    "        \n",
    "        \n",
    "eric = Student(\"Eric\", \"Mustermann\")\n",
    "eric.full_name()"
   ]
  },
  {
   "cell_type": "code",
   "execution_count": 24,
   "metadata": {},
   "outputs": [
    {
     "name": "stdout",
     "output_type": "stream",
     "text": [
      "Eric Mustermann in Semester 100\n"
     ]
    }
   ],
   "source": [
    "eric.term = 100\n",
    "eric.full_name()"
   ]
  },
  {
   "cell_type": "code",
   "execution_count": 25,
   "metadata": {},
   "outputs": [
    {
     "name": "stdout",
     "output_type": "stream",
     "text": [
      "Eric Mustermann in Semester 1\n"
     ]
    }
   ],
   "source": [
    "class Student():\n",
    "    def __init__(self, first_name, last_name):\n",
    "        self.first_name = first_name\n",
    "        self.last_name = last_name\n",
    "        self.term = 1\n",
    "        \n",
    "    def full_name(self):\n",
    "        print(self.first_name + \" \" + self.last_name + \" in Semester \" + str(self.term))\n",
    "        \n",
    "    def inc_term(self):\n",
    "        self.term = self.term + 1\n",
    "        \n",
    "        \n",
    "eric = Student(\"Eric\", \"Mustermann\")\n",
    "eric.full_name()"
   ]
  },
  {
   "cell_type": "code",
   "execution_count": 26,
   "metadata": {},
   "outputs": [
    {
     "name": "stdout",
     "output_type": "stream",
     "text": [
      "Eric Mustermann in Semester 2\n"
     ]
    }
   ],
   "source": [
    "eric.inc_term()\n",
    "eric.full_name()"
   ]
  },
  {
   "cell_type": "code",
   "execution_count": 27,
   "metadata": {},
   "outputs": [
    {
     "name": "stdout",
     "output_type": "stream",
     "text": [
      "Eric Mustermann in Semester 9\n"
     ]
    }
   ],
   "source": [
    "class Student():\n",
    "    def __init__(self, first_name, last_name):\n",
    "        self.first_name = first_name\n",
    "        self.last_name = last_name\n",
    "        self.term = 1\n",
    "        \n",
    "    def full_name(self):\n",
    "        print(self.first_name + \" \" + self.last_name + \" in Semester \" + str(self.term))\n",
    "        \n",
    "    def inc_term(self):\n",
    "        if self.term >= 9:\n",
    "            return\n",
    "        self.term = self.term + 1\n",
    "        \n",
    "        \n",
    "eric = Student(\"Eric\", \"Mustermann\")\n",
    "\n",
    "for i in range(15):\n",
    "    eric.inc_term()\n",
    "    \n",
    "eric.full_name()"
   ]
  },
  {
   "cell_type": "code",
   "execution_count": 34,
   "metadata": {},
   "outputs": [
    {
     "name": "stdout",
     "output_type": "stream",
     "text": [
      "Eric Mustermann in Semester 100\n"
     ]
    }
   ],
   "source": [
    "class Student():\n",
    "    def __init__(self, first_name, last_name):\n",
    "        self.first_name = first_name\n",
    "        self.last_name = last_name\n",
    "        self.term = 1\n",
    "        \n",
    "    def full_name(self):\n",
    "        print(self.first_name + \" \" + self.last_name + \" in Semester \" + str(self.term))\n",
    "        \n",
    "    def inc_term(self):\n",
    "        if self.term >= 9:\n",
    "            return\n",
    "        self.term = self.term + 1\n",
    "        \n",
    "        \n",
    "eric = Student(\"Eric\", \"Mustermann\")\n",
    "\n",
    "for i in range(15):\n",
    "    eric.inc_term()\n",
    "\n",
    "eric.term = 100\n",
    "    \n",
    "eric.full_name()"
   ]
  },
  {
   "cell_type": "markdown",
   "metadata": {},
   "source": [
    "(Konvention unter Entwicklern, dass diese Eigenschaft nicht verändert werden sollte)"
   ]
  },
  {
   "cell_type": "code",
   "execution_count": 33,
   "metadata": {},
   "outputs": [
    {
     "name": "stdout",
     "output_type": "stream",
     "text": [
      "Eric Mustermann in Semester 100\n"
     ]
    }
   ],
   "source": [
    "class Student():\n",
    "    def __init__(self, first_name, last_name):\n",
    "        self.first_name = first_name\n",
    "        self.last_name = last_name\n",
    "        self._term = 1\n",
    "        \n",
    "    def full_name(self):\n",
    "        print(self.first_name + \" \" + self.last_name + \" in Semester \" + str(self._term))\n",
    "        \n",
    "    def inc_term(self):\n",
    "        if self._term >= 9:\n",
    "            return\n",
    "        self._term = self._term + 1\n",
    "        \n",
    "        \n",
    "eric = Student(\"Eric\", \"Mustermann\")\n",
    "\n",
    "for i in range(15):\n",
    "    eric.inc_term()\n",
    "\n",
    "eric._term = 100\n",
    "    \n",
    "eric.full_name()"
   ]
  },
  {
   "cell_type": "code",
   "execution_count": 32,
   "metadata": {},
   "outputs": [
    {
     "name": "stdout",
     "output_type": "stream",
     "text": [
      "Eric Mustermann in Semester 9\n"
     ]
    }
   ],
   "source": [
    "class Student():\n",
    "    def __init__(self, first_name, last_name):\n",
    "        self.first_name = first_name\n",
    "        self.last_name = last_name\n",
    "        self.__term = 1\n",
    "        \n",
    "    def full_name(self):\n",
    "        print(self.first_name + \" \" + self.last_name + \" in Semester \" + str(self.__term))\n",
    "        \n",
    "    def inc_term(self):\n",
    "        if self.__term >= 9:\n",
    "            return\n",
    "        self.__term = self.__term + 1\n",
    "        \n",
    "        \n",
    "eric = Student(\"Eric\", \"Mustermann\")\n",
    "\n",
    "for i in range(15):\n",
    "    eric.inc_term()\n",
    "\n",
    "eric.__term = 100\n",
    "    \n",
    "eric.full_name()"
   ]
  },
  {
   "cell_type": "code",
   "execution_count": 35,
   "metadata": {},
   "outputs": [
    {
     "ename": "AttributeError",
     "evalue": "'Student' object has no attribute '__term'",
     "output_type": "error",
     "traceback": [
      "\u001b[0;31m---------------------------------------------------------------------------\u001b[0m",
      "\u001b[0;31mAttributeError\u001b[0m                            Traceback (most recent call last)",
      "\u001b[0;32m<ipython-input-35-56cd95cee3ba>\u001b[0m in \u001b[0;36m<module>\u001b[0;34m\u001b[0m\n\u001b[0;32m----> 1\u001b[0;31m \u001b[0mprint\u001b[0m\u001b[0;34m(\u001b[0m\u001b[0meric\u001b[0m\u001b[0;34m.\u001b[0m\u001b[0m__term\u001b[0m\u001b[0;34m)\u001b[0m\u001b[0;34m\u001b[0m\u001b[0;34m\u001b[0m\u001b[0m\n\u001b[0m",
      "\u001b[0;31mAttributeError\u001b[0m: 'Student' object has no attribute '__term'"
     ]
    }
   ],
   "source": [
    "print(eric.__term)"
   ]
  },
  {
   "cell_type": "code",
   "execution_count": 38,
   "metadata": {},
   "outputs": [
    {
     "name": "stdout",
     "output_type": "stream",
     "text": [
      "9\n"
     ]
    }
   ],
   "source": [
    "class Student():\n",
    "    def __init__(self, first_name, last_name):\n",
    "        self.first_name = first_name\n",
    "        self.last_name = last_name\n",
    "        self.__term = 1\n",
    "        \n",
    "    def full_name(self):\n",
    "        print(self.first_name + \" \" + self.last_name + \" in Semester \" + str(self.__term))\n",
    "        \n",
    "    def inc_term(self):\n",
    "        if self.__term >= 9:\n",
    "            return\n",
    "        self.__term = self.__term + 1\n",
    "        \n",
    "    def get_term(self):\n",
    "        return self.__term\n",
    "        \n",
    "        \n",
    "eric = Student(\"Eric\", \"Mustermann\")\n",
    "\n",
    "for i in range(15):\n",
    "    eric.inc_term()\n",
    "    \n",
    "print(eric.get_term())"
   ]
  },
  {
   "cell_type": "code",
   "execution_count": 44,
   "metadata": {},
   "outputs": [
    {
     "name": "stdout",
     "output_type": "stream",
     "text": [
      "warning: student Eric Mustermann has now more than 6 semesters!\n",
      "warning: student Eric Mustermann has more than 6 semesters!\n",
      "warning: student Eric Mustermann has more than 6 semesters!\n",
      "error: student Eric Mustermann has already the maximum amount of semesters!\n",
      "error: student Eric Mustermann has already the maximum amount of semesters!\n",
      "error: student Eric Mustermann has already the maximum amount of semesters!\n",
      "error: student Eric Mustermann has already the maximum amount of semesters!\n",
      "error: student Eric Mustermann has already the maximum amount of semesters!\n",
      "error: student Eric Mustermann has already the maximum amount of semesters!\n",
      "error: student Eric Mustermann has already the maximum amount of semesters!\n",
      "Eric Mustermann in Semester 9\n"
     ]
    }
   ],
   "source": [
    "class Student():\n",
    "    def __init__(self, first_name, last_name):\n",
    "        self.first_name = first_name\n",
    "        self.last_name = last_name\n",
    "        self.__term = 1\n",
    "        self.__max_amount_terms = 9\n",
    "        \n",
    "    def full_name(self):\n",
    "        print(self.first_name + \" \" + self.last_name + \" in Semester \" + str(self.__term))\n",
    "        \n",
    "    def __check_term_increasment_conditions(self):\n",
    "        if self.__term >= self.__max_amount_terms:\n",
    "            print(\"error: student \" + self.first_name + \" \" + self.last_name + \" has already the maximum amount of semesters!\")\n",
    "            return True\n",
    "        if self.__term == 6:\n",
    "            print(\"warning: student \" + self.first_name + \" \" + self.last_name + \" has now more than 6 semesters!\")\n",
    "            return False\n",
    "        if self.__term > 6:\n",
    "            print(\"warning: student \" + self.first_name + \" \" + self.last_name + \" has more than 6 semesters!\")\n",
    "            return False\n",
    "    \n",
    "    def inc_term(self):\n",
    "        if self.__check_term_increasment_conditions():\n",
    "            return\n",
    "        self.__term = self.__term + 1\n",
    "        \n",
    "    def get_term(self):\n",
    "        return self.__term\n",
    "        \n",
    "        \n",
    "eric = Student(\"Eric\", \"Mustermann\")\n",
    "\n",
    "for i in range(15):\n",
    "    eric.inc_term()\n",
    "    \n",
    "eric.full_name()"
   ]
  },
  {
   "cell_type": "markdown",
   "metadata": {},
   "source": [
    "## Besondere Methoden"
   ]
  },
  {
   "cell_type": "code",
   "execution_count": 8,
   "metadata": {},
   "outputs": [
    {
     "name": "stdout",
     "output_type": "stream",
     "text": [
      "035811234567\n",
      "None\n",
      "<__main__.PhoneBook object at 0x7f30f01c7048>\n"
     ]
    }
   ],
   "source": [
    "class PhoneBook():\n",
    "    def __init__(self):\n",
    "        self.__entries = {}\n",
    "        \n",
    "    def add(self, name, number):\n",
    "        self.__entries[name] = number\n",
    "    \n",
    "    def get(self, name):\n",
    "        return self.__entries.get(name)\n",
    "        \n",
    "\n",
    "book = PhoneBook()\n",
    "\n",
    "book.add(\"Musterfrau\", \"035811234567\")\n",
    "book.add(\"Mustermann\", \"035817654321\")\n",
    "\n",
    "print(book.get(\"Musterfrau\"))\n",
    "print(book.get(\"Musterfamilie\"))\n",
    "\n",
    "print(book)"
   ]
  },
  {
   "cell_type": "code",
   "execution_count": 10,
   "metadata": {},
   "outputs": [
    {
     "name": "stdout",
     "output_type": "stream",
     "text": [
      "PhoneBook({'Musterfrau': '035811234567', 'Mustermann': '035817654321'})\n"
     ]
    },
    {
     "data": {
      "text/plain": [
       "<__main__.PhoneBook at 0x7f30f01c7518>"
      ]
     },
     "execution_count": 10,
     "metadata": {},
     "output_type": "execute_result"
    }
   ],
   "source": [
    "class PhoneBook():\n",
    "    def __init__(self):\n",
    "        self.__entries = {}\n",
    "        \n",
    "    def add(self, name, number):\n",
    "        self.__entries[name] = number\n",
    "    \n",
    "    def get(self, name):\n",
    "        return self.__entries.get(name)\n",
    "    \n",
    "    def __str__(self):\n",
    "        return \"PhoneBook(\" + str(self.__entries) + \")\"\n",
    "\n",
    "book = PhoneBook()\n",
    "\n",
    "book.add(\"Musterfrau\", \"035811234567\")\n",
    "book.add(\"Mustermann\", \"035817654321\")\n",
    "\n",
    "print(book)\n",
    "book"
   ]
  },
  {
   "cell_type": "code",
   "execution_count": 11,
   "metadata": {},
   "outputs": [
    {
     "name": "stdout",
     "output_type": "stream",
     "text": [
      "PhoneBook({'Musterfrau': '035811234567', 'Mustermann': '035817654321'})\n"
     ]
    },
    {
     "data": {
      "text/plain": [
       "PhoneBook({'Musterfrau': '035811234567', 'Mustermann': '035817654321'})"
      ]
     },
     "execution_count": 11,
     "metadata": {},
     "output_type": "execute_result"
    }
   ],
   "source": [
    "class PhoneBook():\n",
    "    def __init__(self):\n",
    "        self.__entries = {}\n",
    "        \n",
    "    def add(self, name, number):\n",
    "        self.__entries[name] = number\n",
    "    \n",
    "    def get(self, name):\n",
    "        return self.__entries.get(name)\n",
    "    \n",
    "    def __str__(self):\n",
    "        return \"PhoneBook(\" + str(self.__entries) + \")\"\n",
    "    \n",
    "    def __repr__(self):\n",
    "        return self.__str__()\n",
    "\n",
    "book = PhoneBook()\n",
    "\n",
    "book.add(\"Musterfrau\", \"035811234567\")\n",
    "book.add(\"Mustermann\", \"035817654321\")\n",
    "\n",
    "print(book)\n",
    "book"
   ]
  },
  {
   "cell_type": "code",
   "execution_count": 13,
   "metadata": {},
   "outputs": [
    {
     "ename": "TypeError",
     "evalue": "object of type 'PhoneBook' has no len()",
     "output_type": "error",
     "traceback": [
      "\u001b[0;31m---------------------------------------------------------------------------\u001b[0m",
      "\u001b[0;31mTypeError\u001b[0m                                 Traceback (most recent call last)",
      "\u001b[0;32m<ipython-input-13-1d38fbff008c>\u001b[0m in \u001b[0;36m<module>\u001b[0;34m\u001b[0m\n\u001b[1;32m     20\u001b[0m \u001b[0mbook\u001b[0m\u001b[0;34m.\u001b[0m\u001b[0madd\u001b[0m\u001b[0;34m(\u001b[0m\u001b[0;34m\"Mustermann\"\u001b[0m\u001b[0;34m,\u001b[0m \u001b[0;34m\"035817654321\"\u001b[0m\u001b[0;34m)\u001b[0m\u001b[0;34m\u001b[0m\u001b[0;34m\u001b[0m\u001b[0m\n\u001b[1;32m     21\u001b[0m \u001b[0;34m\u001b[0m\u001b[0m\n\u001b[0;32m---> 22\u001b[0;31m \u001b[0mprint\u001b[0m\u001b[0;34m(\u001b[0m\u001b[0mlen\u001b[0m\u001b[0;34m(\u001b[0m\u001b[0mbook\u001b[0m\u001b[0;34m)\u001b[0m\u001b[0;34m)\u001b[0m\u001b[0;34m\u001b[0m\u001b[0;34m\u001b[0m\u001b[0m\n\u001b[0m",
      "\u001b[0;31mTypeError\u001b[0m: object of type 'PhoneBook' has no len()"
     ]
    }
   ],
   "source": [
    "class PhoneBook():\n",
    "    def __init__(self):\n",
    "        self.__entries = {}\n",
    "        \n",
    "    def add(self, name, number):\n",
    "        self.__entries[name] = number\n",
    "    \n",
    "    def get(self, name):\n",
    "        return self.__entries.get(name)\n",
    "    \n",
    "    def __str__(self):\n",
    "        return \"PhoneBook(\" + str(self.__entries) + \")\"\n",
    "    \n",
    "    def __repr__(self):\n",
    "        return self.__str__()\n",
    "\n",
    "book = PhoneBook()\n",
    "\n",
    "book.add(\"Musterfrau\", \"035811234567\")\n",
    "book.add(\"Mustermann\", \"035817654321\")\n",
    "\n",
    "print(len(book))"
   ]
  },
  {
   "cell_type": "code",
   "execution_count": 14,
   "metadata": {},
   "outputs": [
    {
     "name": "stdout",
     "output_type": "stream",
     "text": [
      "2\n"
     ]
    }
   ],
   "source": [
    "class PhoneBook():\n",
    "    def __init__(self):\n",
    "        self.__entries = {}\n",
    "        \n",
    "    def add(self, name, number):\n",
    "        self.__entries[name] = number\n",
    "    \n",
    "    def get(self, name):\n",
    "        return self.__entries.get(name)\n",
    "    \n",
    "    def __str__(self):\n",
    "        return \"PhoneBook(\" + str(self.__entries) + \")\"\n",
    "    \n",
    "    def __repr__(self):\n",
    "        return self.__str__()\n",
    "    \n",
    "    def __len__(self):\n",
    "        return len(self.__entries)\n",
    "\n",
    "book = PhoneBook()\n",
    "\n",
    "book.add(\"Musterfrau\", \"035811234567\")\n",
    "book.add(\"Mustermann\", \"035817654321\")\n",
    "\n",
    "print(len(book))"
   ]
  },
  {
   "cell_type": "markdown",
   "metadata": {},
   "source": [
    "## Vererbung"
   ]
  },
  {
   "cell_type": "markdown",
   "metadata": {},
   "source": [
    "![](https://ardalis.com/wp-content/files/media/image/WindowsLiveWriter/DRYDontRepeatYourselfMotivator_BA85/dontrepeatyourself_motivator_2.jpg)"
   ]
  },
  {
   "cell_type": "code",
   "execution_count": 37,
   "metadata": {},
   "outputs": [],
   "source": [
    "class Rectangle():\n",
    "    def __init__(self, a, b):\n",
    "        self.__a = a\n",
    "        self.__b = b\n",
    "        \n",
    "    def area(self):\n",
    "        return self.__a * self.__b\n",
    "    \n",
    "    def circumference(self):\n",
    "        return 2 * self.__a + 2 * self.__b "
   ]
  },
  {
   "cell_type": "code",
   "execution_count": 38,
   "metadata": {},
   "outputs": [],
   "source": [
    "class Square(Rectangle):\n",
    "    def __init__(self, a):\n",
    "        super().__init__(a, a)"
   ]
  },
  {
   "cell_type": "code",
   "execution_count": 39,
   "metadata": {},
   "outputs": [
    {
     "name": "stdout",
     "output_type": "stream",
     "text": [
      "12\n",
      "16\n"
     ]
    }
   ],
   "source": [
    "rect = Rectangle(4, 3)\n",
    "print(rect.area())\n",
    "\n",
    "square = Square(4)\n",
    "print(square.area())"
   ]
  },
  {
   "cell_type": "code",
   "execution_count": 40,
   "metadata": {},
   "outputs": [
    {
     "name": "stdout",
     "output_type": "stream",
     "text": [
      "12\n",
      "16\n",
      "24\n",
      "18\n",
      "4\n",
      "36\n",
      "56\n",
      "Summe der Flächen: 166\n"
     ]
    }
   ],
   "source": [
    "geometries = [\n",
    "    Rectangle(4, 3),\n",
    "    Square(4),\n",
    "    Rectangle(8, 3),\n",
    "    Rectangle(3, 6),\n",
    "    Square(2),\n",
    "    Square(6),\n",
    "    Rectangle(7, 8)\n",
    "]\n",
    "\n",
    "for geometry in geometries:\n",
    "    print(geometry.area())\n",
    "    \n",
    "sum_geometetries = 0\n",
    "\n",
    "for geometry in geometries:\n",
    "    sum_geometetries = sum_geometetries + geometry.area()\n",
    "    \n",
    "print(\"Summe der Flächen: \" + str(sum_geometetries))"
   ]
  },
  {
   "cell_type": "code",
   "execution_count": 41,
   "metadata": {},
   "outputs": [
    {
     "name": "stdout",
     "output_type": "stream",
     "text": [
      "<class '__main__.Rectangle'>\n",
      "<class '__main__.Square'>\n"
     ]
    }
   ],
   "source": [
    "print(type(rect))\n",
    "print(type(square))"
   ]
  },
  {
   "cell_type": "code",
   "execution_count": 42,
   "metadata": {},
   "outputs": [
    {
     "name": "stdout",
     "output_type": "stream",
     "text": [
      "True\n",
      "False\n"
     ]
    }
   ],
   "source": [
    "def is_rectangle(test):\n",
    "    return type(test) == Rectangle\n",
    "\n",
    "print(is_rectangle(rect))\n",
    "print(is_rectangle(square))"
   ]
  },
  {
   "cell_type": "code",
   "execution_count": 44,
   "metadata": {},
   "outputs": [
    {
     "name": "stdout",
     "output_type": "stream",
     "text": [
      "True\n",
      "True\n"
     ]
    }
   ],
   "source": [
    "print(isinstance(square, Square))\n",
    "print(isinstance(square, Rectangle))"
   ]
  },
  {
   "cell_type": "code",
   "execution_count": 45,
   "metadata": {},
   "outputs": [
    {
     "name": "stdout",
     "output_type": "stream",
     "text": [
      "Summe der Flächen: 56\n"
     ]
    }
   ],
   "source": [
    "sum_geometetries = 0\n",
    "\n",
    "for geometry in geometries:\n",
    "    if type(geometry) == Square:\n",
    "        sum_geometetries = sum_geometetries + geometry.area()\n",
    "    \n",
    "print(\"Summe der Flächen: \" + str(sum_geometetries))"
   ]
  },
  {
   "cell_type": "markdown",
   "metadata": {},
   "source": [
    "## statische Variablen"
   ]
  },
  {
   "cell_type": "code",
   "execution_count": 46,
   "metadata": {},
   "outputs": [
    {
     "name": "stdout",
     "output_type": "stream",
     "text": [
      "cheap\n"
     ]
    }
   ],
   "source": [
    "class Product():\n",
    "    price = \"cheap\"\n",
    "    \n",
    "p = Product()\n",
    "pp = Product()\n",
    "\n",
    "print(p.price)"
   ]
  },
  {
   "cell_type": "code",
   "execution_count": 47,
   "metadata": {},
   "outputs": [
    {
     "name": "stdout",
     "output_type": "stream",
     "text": [
      "expensive\n"
     ]
    }
   ],
   "source": [
    "Product.price = \"expensive\"\n",
    "print(p.price)"
   ]
  },
  {
   "cell_type": "code",
   "execution_count": 49,
   "metadata": {},
   "outputs": [
    {
     "name": "stdout",
     "output_type": "stream",
     "text": [
      "expensive\n",
      "other\n"
     ]
    }
   ],
   "source": [
    "pp.price = \"other\"\n",
    "\n",
    "print(p.price)\n",
    "print(pp.price)"
   ]
  },
  {
   "cell_type": "code",
   "execution_count": 50,
   "metadata": {},
   "outputs": [
    {
     "name": "stdout",
     "output_type": "stream",
     "text": [
      "cheap\n",
      "other\n"
     ]
    }
   ],
   "source": [
    "Product.price = \"cheap\"\n",
    "print(p.price)\n",
    "print(pp.price)"
   ]
  }
 ],
 "metadata": {
  "kernelspec": {
   "display_name": "Python 3",
   "language": "python",
   "name": "python3"
  },
  "language_info": {
   "codemirror_mode": {
    "name": "ipython",
    "version": 3
   },
   "file_extension": ".py",
   "mimetype": "text/x-python",
   "name": "python",
   "nbconvert_exporter": "python",
   "pygments_lexer": "ipython3",
   "version": "3.7.7"
  }
 },
 "nbformat": 4,
 "nbformat_minor": 4
}
