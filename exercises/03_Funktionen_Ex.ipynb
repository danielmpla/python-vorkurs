{
 "cells": [
  {
   "cell_type": "markdown",
   "metadata": {
    "pycharm": {
     "name": "#%% md\n"
    }
   },
   "source": [
    "# 3. Übung: Funktionen\n",
    "\n",
    "- Zeit ca. 15 Minuten \n",
    "\n",
    "## Aufbau der Übungen\n",
    "\n",
    "- Eine Aufgabe besteht immer aus mindestens einer Eingabe-Zelle\n",
    "- In dieser Zelle wird bereits Code stehen\n",
    "- Diesen sollten Sie nicht ändern, da Sie sonst möglicherweiße die Aufgabe vereinfachen\n",
    "    - Möchten Sie alternative Lösungen testen oder andere Eingabewerte verwenden können Sie weitere Zellen einfügen\n",
    "    - Achten Sie dabei aber darauf, dass Variablen innerhalb eines Notebooks global sind und dadurch von Ihnen eventuell überschrieben werden\n",
    "    - **Falls es bei der Ausführung zu Problemen kommt, bzw. Sie eine andere Ausgabe erwarten sollten Sie zuerst den Kernel neu starten**\n",
    "        - **Kernel -> Restart Kernel** bzw. **Kernel -> Restart Kernel and Clear ...**\n",
    "- Falls unter einer Aufgaben-Zelle eine weitere Zelle mit `assert`-Statements ist, dient diese lediglich der Verfizierung Ihres Codes\n",
    "    - An dieser Zelle müssen Sie nichts ändern\n",
    "    - Wenn Sie diese Zelle ausführen und keine Ausgabe kommt ist alles i.O.\n",
    "    - Bei einer Ausgabe sehen Sie was falsch ist"
   ]
  },
  {
   "cell_type": "markdown",
   "metadata": {},
   "source": [
    "In dieser Übung wollen wir uns mit den Grundlagen von Funktionen in Python vertraut machen. "
   ]
  },
  {
   "cell_type": "markdown",
   "metadata": {},
   "source": [
    "## Aufgabe 1: \n",
    "\n",
    "Vergleichen Sie für einen beliebigen Namen die Geburtenrate in den US-Staaten Texas, Florida, Washington, Nebraska und Alaska! Verwenden Sie hierfür einen Plot."
   ]
  },
  {
   "cell_type": "code",
   "execution_count": null,
   "metadata": {},
   "outputs": [],
   "source": [
    "%matplotlib inline\n",
    "import matplotlib.pyplot as plt\n",
    "\n",
    "plt.rcParams['figure.figsize'] = [19, 10]\n",
    "\n",
    "x = []\n",
    "y = []\n",
    "\n",
    "with open(\"../../python_vorkurs_data/StateNames.csv\", \"r\") as file:\n",
    "    for line in file:\n",
    "        data = line.strip().split(\",\")"
   ]
  },
  {
   "cell_type": "code",
   "execution_count": null,
   "metadata": {},
   "outputs": [],
   "source": []
  },
  {
   "cell_type": "markdown",
   "metadata": {},
   "source": [
    "## Aufgabe 2: \n",
    "\n",
    "Suchen Sie für jeden Bundesstaat das Jahr mit den meisten Auftreten des Namens und geben Sie die Ergebnisse textuell aus."
   ]
  },
  {
   "cell_type": "code",
   "execution_count": null,
   "metadata": {},
   "outputs": [],
   "source": [
    "\n",
    "\n",
    "with open(\"../../python_vorkurs_data/StateNames.csv\", \"r\") as file:\n",
    "    for line in file:\n",
    "        data = line.strip().split(\",\")"
   ]
  },
  {
   "cell_type": "markdown",
   "metadata": {},
   "source": [
    "## Aufgabe 3: \n",
    "\n",
    "Replizieren Sie den \"Arnold\"-Plot für die kompllette USA. Summieren Sie dafür die Geburtenzahlen aller Bundesstaaten pro Jahr auf."
   ]
  },
  {
   "cell_type": "code",
   "execution_count": null,
   "metadata": {},
   "outputs": [],
   "source": [
    "%matplotlib inline\n",
    "import matplotlib.pyplot as plt\n",
    "\n",
    "plt.rcParams['figure.figsize'] = [19, 10]\n",
    "\n",
    "x = []\n",
    "y = []\n",
    "\n",
    "with open(\"../../python_vorkurs_data/StateNames.csv\", \"r\") as file:\n",
    "    for line in file:\n",
    "        data = line.strip().split(\",\")"
   ]
  },
  {
   "cell_type": "code",
   "execution_count": null,
   "metadata": {},
   "outputs": [],
   "source": []
  }
 ],
 "metadata": {
  "kernelspec": {
   "display_name": "Python 3",
   "language": "python",
   "name": "python3"
  },
  "language_info": {
   "codemirror_mode": {
    "name": "ipython",
    "version": 3
   },
   "file_extension": ".py",
   "mimetype": "text/x-python",
   "name": "python",
   "nbconvert_exporter": "python",
   "pygments_lexer": "ipython3",
   "version": "3.7.7"
  },
  "pycharm": {
   "stem_cell": {
    "cell_type": "raw",
    "metadata": {
     "collapsed": false
    },
    "source": []
   }
  }
 },
 "nbformat": 4,
 "nbformat_minor": 4
}
