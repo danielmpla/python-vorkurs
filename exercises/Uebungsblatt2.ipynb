{
 "cells": [
  {
   "cell_type": "markdown",
   "metadata": {},
   "source": [
    "**Aufgabe 2-1:**\n",
    "\n",
    "Geben Sie alle durch 13 teilbaren Zahlen im Intervall von -1000 bis +1000 aus!\n",
    "Hinweis: Hier hilft die Modulo-Operation"
   ]
  },
  {
   "cell_type": "code",
   "execution_count": 1,
   "metadata": {
    "collapsed": true,
    "jupyter": {
     "outputs_hidden": true
    }
   },
   "outputs": [
    {
     "name": "stdout",
     "output_type": "stream",
     "text": [
      "-988\n",
      "-975\n",
      "-962\n",
      "-949\n",
      "-936\n",
      "-923\n",
      "-910\n",
      "-897\n",
      "-884\n",
      "-871\n",
      "-858\n",
      "-845\n",
      "-832\n",
      "-819\n",
      "-806\n",
      "-793\n",
      "-780\n",
      "-767\n",
      "-754\n",
      "-741\n",
      "-728\n",
      "-715\n",
      "-702\n",
      "-689\n",
      "-676\n",
      "-663\n",
      "-650\n",
      "-637\n",
      "-624\n",
      "-611\n",
      "-598\n",
      "-585\n",
      "-572\n",
      "-559\n",
      "-546\n",
      "-533\n",
      "-520\n",
      "-507\n",
      "-494\n",
      "-481\n",
      "-468\n",
      "-455\n",
      "-442\n",
      "-429\n",
      "-416\n",
      "-403\n",
      "-390\n",
      "-377\n",
      "-364\n",
      "-351\n",
      "-338\n",
      "-325\n",
      "-312\n",
      "-299\n",
      "-286\n",
      "-273\n",
      "-260\n",
      "-247\n",
      "-234\n",
      "-221\n",
      "-208\n",
      "-195\n",
      "-182\n",
      "-169\n",
      "-156\n",
      "-143\n",
      "-130\n",
      "-117\n",
      "-104\n",
      "-91\n",
      "-78\n",
      "-65\n",
      "-52\n",
      "-39\n",
      "-26\n",
      "-13\n",
      "0\n",
      "13\n",
      "26\n",
      "39\n",
      "52\n",
      "65\n",
      "78\n",
      "91\n",
      "104\n",
      "117\n",
      "130\n",
      "143\n",
      "156\n",
      "169\n",
      "182\n",
      "195\n",
      "208\n",
      "221\n",
      "234\n",
      "247\n",
      "260\n",
      "273\n",
      "286\n",
      "299\n",
      "312\n",
      "325\n",
      "338\n",
      "351\n",
      "364\n",
      "377\n",
      "390\n",
      "403\n",
      "416\n",
      "429\n",
      "442\n",
      "455\n",
      "468\n",
      "481\n",
      "494\n",
      "507\n",
      "520\n",
      "533\n",
      "546\n",
      "559\n",
      "572\n",
      "585\n",
      "598\n",
      "611\n",
      "624\n",
      "637\n",
      "650\n",
      "663\n",
      "676\n",
      "689\n",
      "702\n",
      "715\n",
      "728\n",
      "741\n",
      "754\n",
      "767\n",
      "780\n",
      "793\n",
      "806\n",
      "819\n",
      "832\n",
      "845\n",
      "858\n",
      "871\n",
      "884\n",
      "897\n",
      "910\n",
      "923\n",
      "936\n",
      "949\n",
      "962\n",
      "975\n",
      "988\n"
     ]
    }
   ],
   "source": [
    "for i in range(-1000, 1001):\n",
    "    if i % 13 == 0:\n",
    "        print(i)"
   ]
  },
  {
   "cell_type": "markdown",
   "metadata": {},
   "source": [
    "**Aufgabe 2-2:**\n",
    "\n",
    "Schreiben Sie eine Funktion zur Berechnung der Summe der Zahlen von 1 bis 200 in Integer-\n",
    "Arithmetik (also 1+2+3+4+5 usw.)! Ändern Sie das Programm so ab, dass nicht die Summe,\n",
    "sondern das Produkt der Zahlen von 1 bis 100 (also 1\\*2\\*3\\*4\\*5 usw.) berechnet wird! Ändern\n",
    "Sie das Programm nochmals, so dass das Zwischenergebnis der Produktbildung nach jeweils 5\n",
    "Produkten ausgegeben wird (also bei 5, 10, 15, usw.)!"
   ]
  },
  {
   "cell_type": "code",
   "execution_count": 3,
   "metadata": {},
   "outputs": [
    {
     "name": "stdout",
     "output_type": "stream",
     "text": [
      "20100\n"
     ]
    }
   ],
   "source": [
    "n = range(0,201)\n",
    "print(sum(n))"
   ]
  },
  {
   "cell_type": "code",
   "execution_count": 4,
   "metadata": {},
   "outputs": [
    {
     "name": "stdout",
     "output_type": "stream",
     "text": [
      "120\n",
      "3628800\n",
      "1307674368000\n",
      "2432902008176640000\n",
      "15511210043330985984000000\n",
      "265252859812191058636308480000000\n",
      "10333147966386144929666651337523200000000\n",
      "815915283247897734345611269596115894272000000000\n",
      "119622220865480194561963161495657715064383733760000000000\n",
      "30414093201713378043612608166064768844377641568960512000000000000\n",
      "12696403353658275925965100847566516959580321051449436762275840000000000000\n",
      "8320987112741390144276341183223364380754172606361245952449277696409600000000000000\n",
      "8247650592082470666723170306785496252186258551345437492922123134388955774976000000000000000\n",
      "11978571669969891796072783721689098736458938142546425857555362864628009582789845319680000000000000000\n",
      "24809140811395398091946477116594033660926243886570122837795894512655842677572867409443815424000000000000000000\n",
      "71569457046263802294811533723186532165584657342365752577109445058227039255480148842668944867280814080000000000000000000\n",
      "281710411438055027694947944226061159480056634330574206405101912752560026159795933451040286452340924018275123200000000000000000000\n",
      "1485715964481761497309522733620825737885569961284688766942216863704985393094065876545992131370884059645617234469978112000000000000000000000\n",
      "10329978488239059262599702099394727095397746340117372869212250571234293987594703124871765375385424468563282236864226607350415360000000000000000000000\n",
      "93326215443944152681699238856266700490715968264381621468592963895217599993229915608941463976156518286253697920827223758251185210916864000000000000000000000000\n",
      "\n",
      "93326215443944152681699238856266700490715968264381621468592963895217599993229915608941463976156518286253697920827223758251185210916864000000000000000000000000\n"
     ]
    }
   ],
   "source": [
    "n = 1\n",
    "\n",
    "for i in range(1, 101):\n",
    "    n = n * i\n",
    "    if i % 5 == 0:\n",
    "        print(n)\n",
    "        \n",
    "print('\\n'+str(n))"
   ]
  },
  {
   "cell_type": "code",
   "execution_count": 14,
   "metadata": {},
   "outputs": [
    {
     "name": "stdout",
     "output_type": "stream",
     "text": [
      "93326215443944152681699238856266700490715968264381621468592963895217599993229915608941463976156518286253697920827223758251185210916864000000000000000000000000\n"
     ]
    }
   ],
   "source": [
    "def factorial(n):\n",
    "    if n == 1:\n",
    "        return 1\n",
    "    else:\n",
    "        res = n * factorial(n - 1)\n",
    "\n",
    "        return res\n",
    "\n",
    "print(factorial(100))"
   ]
  },
  {
   "cell_type": "code",
   "execution_count": 8,
   "metadata": {},
   "outputs": [
    {
     "data": {
      "text/plain": [
       "93326215443944152681699238856266700490715968264381621468592963895217599993229915608941463976156518286253697920827223758251185210916864000000000000000000000000"
      ]
     },
     "execution_count": 8,
     "metadata": {},
     "output_type": "execute_result"
    }
   ],
   "source": [
    "import math\n",
    "\n",
    "math.factorial(100)"
   ]
  },
  {
   "cell_type": "markdown",
   "metadata": {},
   "source": [
    "**Aufgabe 2-3:**\n",
    "\n",
    "Listen Sie alle Schaltjahre zwischen 1850 und 2110 auf!"
   ]
  },
  {
   "cell_type": "code",
   "execution_count": 11,
   "metadata": {
    "collapsed": true,
    "jupyter": {
     "outputs_hidden": true
    }
   },
   "outputs": [
    {
     "name": "stdout",
     "output_type": "stream",
     "text": [
      "1852\n",
      "1856\n",
      "1860\n",
      "1864\n",
      "1868\n",
      "1872\n",
      "1876\n",
      "1880\n",
      "1884\n",
      "1888\n",
      "1892\n",
      "1896\n",
      "1904\n",
      "1908\n",
      "1912\n",
      "1916\n",
      "1920\n",
      "1924\n",
      "1928\n",
      "1932\n",
      "1936\n",
      "1940\n",
      "1944\n",
      "1948\n",
      "1952\n",
      "1956\n",
      "1960\n",
      "1964\n",
      "1968\n",
      "1972\n",
      "1976\n",
      "1980\n",
      "1984\n",
      "1988\n",
      "1992\n",
      "1996\n",
      "2000\n",
      "2004\n",
      "2008\n",
      "2012\n",
      "2016\n",
      "2020\n",
      "2024\n",
      "2028\n",
      "2032\n",
      "2036\n",
      "2040\n",
      "2044\n",
      "2048\n",
      "2052\n",
      "2056\n",
      "2060\n",
      "2064\n",
      "2068\n",
      "2072\n",
      "2076\n",
      "2080\n",
      "2084\n",
      "2088\n",
      "2092\n",
      "2096\n",
      "2104\n",
      "2108\n",
      "Es sind 63 Schaltjahre!\n"
     ]
    }
   ],
   "source": [
    "n = 0\n",
    "\n",
    "for i in range(1850, 2111):\n",
    "    if i % 4 == 0 and i % 100 != 0:\n",
    "        print(i)\n",
    "        n = n + 1\n",
    "    elif i % 100 == 0 and i % 400 == 0:\n",
    "        print(i)\n",
    "    \n",
    "        n = n + 1\n",
    "\n",
    "print('Es sind', n, 'Schaltjahre!')"
   ]
  },
  {
   "cell_type": "markdown",
   "metadata": {},
   "source": [
    "**Aufgabe 2-4:**\n",
    "\n",
    "Erstellen Sie eine Funktion, das zu einem Anfangskapital die Anzahl der Jahre berechnet, bis\n",
    "eine Zielsumme erreicht ist. Der Zinssatz beträgt im ersten Jahr 1% und steigt jährlich um 10%\n",
    "(1. Jahr: 1%, 2. Jahr: 1,1%, 3. Jahr: 1,21% usw.) Der Höchstzinssatz wird auf 5% beschränkt.\n",
    "Testen Sie Ihre Funktion mit den Paramtern Anfangskapital = 1000 € und einer Zielsumme =\n",
    "1600 €!"
   ]
  },
  {
   "cell_type": "code",
   "execution_count": 22,
   "metadata": {},
   "outputs": [],
   "source": [
    "def kapital(anfang, ziel):\n",
    "    if anfang > ziel:\n",
    "        return 0\n",
    "    \n",
    "    n = anfang\n",
    "    zins = 1\n",
    "    a = 0\n",
    "    \n",
    "    while n < ziel:\n",
    "        n = n * ((zins / 100) + 1)\n",
    "        a = a + 1\n",
    "        zins = zins * 1.1\n",
    "        if zins > 5:\n",
    "            zins = 5\n",
    "    return a"
   ]
  },
  {
   "cell_type": "code",
   "execution_count": 23,
   "metadata": {},
   "outputs": [
    {
     "data": {
      "text/plain": [
       "19"
      ]
     },
     "execution_count": 23,
     "metadata": {},
     "output_type": "execute_result"
    }
   ],
   "source": [
    "kapital(1000,1600)"
   ]
  },
  {
   "cell_type": "markdown",
   "metadata": {},
   "source": [
    "**Aufgabe 2-5:**\n",
    "\n",
    "Erstellen Sie eine Funktion, welche für die Celsius-Temperaturen von 0 bis 100 die jeweiligen\n",
    "Kelvin- und Fahrenheittemperaturen ausgibt!"
   ]
  },
  {
   "cell_type": "code",
   "execution_count": 31,
   "metadata": {},
   "outputs": [
    {
     "data": {
      "text/plain": [
       "(0.0, -459.66999999999996)"
      ]
     },
     "execution_count": 31,
     "metadata": {},
     "output_type": "execute_result"
    }
   ],
   "source": [
    "def temprechner(celsius):\n",
    "    k = celsius + 273.15 \n",
    "    f = (celsius * 9 / 5) + 32\n",
    "    return k, f\n",
    "\n",
    "temprechner(-273.15)"
   ]
  },
  {
   "cell_type": "code",
   "execution_count": 32,
   "metadata": {
    "collapsed": true,
    "jupyter": {
     "outputs_hidden": true
    }
   },
   "outputs": [
    {
     "name": "stdout",
     "output_type": "stream",
     "text": [
      "0 (273.15, 32.0)\n",
      "1 (274.15, 33.8)\n",
      "2 (275.15, 35.6)\n",
      "3 (276.15, 37.4)\n",
      "4 (277.15, 39.2)\n",
      "5 (278.15, 41.0)\n",
      "6 (279.15, 42.8)\n",
      "7 (280.15, 44.6)\n",
      "8 (281.15, 46.4)\n",
      "9 (282.15, 48.2)\n",
      "10 (283.15, 50.0)\n",
      "11 (284.15, 51.8)\n",
      "12 (285.15, 53.6)\n",
      "13 (286.15, 55.4)\n",
      "14 (287.15, 57.2)\n",
      "15 (288.15, 59.0)\n",
      "16 (289.15, 60.8)\n",
      "17 (290.15, 62.6)\n",
      "18 (291.15, 64.4)\n",
      "19 (292.15, 66.2)\n",
      "20 (293.15, 68.0)\n",
      "21 (294.15, 69.8)\n",
      "22 (295.15, 71.6)\n",
      "23 (296.15, 73.4)\n",
      "24 (297.15, 75.2)\n",
      "25 (298.15, 77.0)\n",
      "26 (299.15, 78.8)\n",
      "27 (300.15, 80.6)\n",
      "28 (301.15, 82.4)\n",
      "29 (302.15, 84.2)\n",
      "30 (303.15, 86.0)\n",
      "31 (304.15, 87.8)\n",
      "32 (305.15, 89.6)\n",
      "33 (306.15, 91.4)\n",
      "34 (307.15, 93.2)\n",
      "35 (308.15, 95.0)\n",
      "36 (309.15, 96.8)\n",
      "37 (310.15, 98.6)\n",
      "38 (311.15, 100.4)\n",
      "39 (312.15, 102.2)\n",
      "40 (313.15, 104.0)\n",
      "41 (314.15, 105.8)\n",
      "42 (315.15, 107.6)\n",
      "43 (316.15, 109.4)\n",
      "44 (317.15, 111.2)\n",
      "45 (318.15, 113.0)\n",
      "46 (319.15, 114.8)\n",
      "47 (320.15, 116.6)\n",
      "48 (321.15, 118.4)\n",
      "49 (322.15, 120.2)\n",
      "50 (323.15, 122.0)\n",
      "51 (324.15, 123.8)\n",
      "52 (325.15, 125.6)\n",
      "53 (326.15, 127.4)\n",
      "54 (327.15, 129.2)\n",
      "55 (328.15, 131.0)\n",
      "56 (329.15, 132.8)\n",
      "57 (330.15, 134.6)\n",
      "58 (331.15, 136.4)\n",
      "59 (332.15, 138.2)\n",
      "60 (333.15, 140.0)\n",
      "61 (334.15, 141.8)\n",
      "62 (335.15, 143.6)\n",
      "63 (336.15, 145.4)\n",
      "64 (337.15, 147.2)\n",
      "65 (338.15, 149.0)\n",
      "66 (339.15, 150.8)\n",
      "67 (340.15, 152.6)\n",
      "68 (341.15, 154.4)\n",
      "69 (342.15, 156.2)\n",
      "70 (343.15, 158.0)\n",
      "71 (344.15, 159.8)\n",
      "72 (345.15, 161.6)\n",
      "73 (346.15, 163.4)\n",
      "74 (347.15, 165.2)\n",
      "75 (348.15, 167.0)\n",
      "76 (349.15, 168.8)\n",
      "77 (350.15, 170.6)\n",
      "78 (351.15, 172.4)\n",
      "79 (352.15, 174.2)\n",
      "80 (353.15, 176.0)\n",
      "81 (354.15, 177.8)\n",
      "82 (355.15, 179.6)\n",
      "83 (356.15, 181.4)\n",
      "84 (357.15, 183.2)\n",
      "85 (358.15, 185.0)\n",
      "86 (359.15, 186.8)\n",
      "87 (360.15, 188.6)\n",
      "88 (361.15, 190.4)\n",
      "89 (362.15, 192.2)\n",
      "90 (363.15, 194.0)\n",
      "91 (364.15, 195.8)\n",
      "92 (365.15, 197.6)\n",
      "93 (366.15, 199.4)\n",
      "94 (367.15, 201.2)\n",
      "95 (368.15, 203.0)\n",
      "96 (369.15, 204.8)\n",
      "97 (370.15, 206.6)\n",
      "98 (371.15, 208.4)\n",
      "99 (372.15, 210.2)\n",
      "100 (373.15, 212.0)\n"
     ]
    }
   ],
   "source": [
    "for i in range(0, 101):\n",
    "    print(i, temprechner(i))"
   ]
  },
  {
   "cell_type": "markdown",
   "metadata": {},
   "source": [
    "**Aufgabe 2-6:**\n",
    "\n",
    "Schreiben Sie eine Funktion, das die minimale Anzahl von Münzen und Geldscheinen berechnet,\n",
    "mit denen ein einzugebender Geldbetrag zusammengestellt werden kann (nur ganze Euro-\n",
    "Beträge)!\n",
    "\n",
    "Beispiel: 27 EUR: 1\\*20 EUR + 1\\*5 EUR + 1\\*2 EUR"
   ]
  },
  {
   "cell_type": "code",
   "execution_count": 37,
   "metadata": {},
   "outputs": [],
   "source": [
    "def muenzen(betrag):\n",
    "    rest = 0\n",
    "    anzahl = 0\n",
    "\n",
    "    if betrag >= 500:\n",
    "        anzahl = betrag // 500\n",
    "        rest = betrag % 500\n",
    "    \n",
    "        if rest != 0:\n",
    "            return str(anzahl) + ' * 500 EUR + ' + str(muenzen(rest))\n",
    "        else:\n",
    "            return str(anzahl) + ' * 500 EUR'\n",
    "        \n",
    "    elif betrag >= 200:\n",
    "        anzahl = betrag // 200\n",
    "        rest = betrag % 200\n",
    "        if rest != 0:\n",
    "            return str(anzahl) + ' * 200 EUR + ' + str(muenzen(rest))\n",
    "        else:\n",
    "            return str(anzahl) + ' * 200 EUR'\n",
    "        \n",
    "    elif betrag >= 100:\n",
    "        anzahl = betrag // 100\n",
    "        rest = betrag % 100\n",
    "        if rest != 0:\n",
    "            return str(anzahl) + ' * 100 EUR + ' + str(muenzen(rest))\n",
    "        else:\n",
    "            return str(anzahl) + ' * 100 EUR'\n",
    "\n",
    "    elif betrag >= 50:\n",
    "        anzahl = betrag // 50\n",
    "        rest = betrag % 50\n",
    "        if rest != 0:\n",
    "            return str(anzahl) + ' * 50 EUR + ' + str(muenzen(rest))\n",
    "        else:\n",
    "            return str(anzahl) + ' * 50 EUR'\n",
    "\n",
    "    elif betrag >= 20:\n",
    "        anzahl = betrag // 20\n",
    "        rest = betrag % 20\n",
    "        if rest != 0:\n",
    "            return str(anzahl) + ' * 20 EUR + ' + str(muenzen(rest))\n",
    "        else:\n",
    "            return str(anzahl) + ' * 20 EUR'\n",
    "\n",
    "    elif betrag >= 10:\n",
    "        anzahl = betrag // 10\n",
    "        rest = betrag % 10\n",
    "        if rest != 0:\n",
    "            return str(anzahl) + ' * 10 EUR + ' + str(muenzen(rest))\n",
    "        else:\n",
    "            return str(anzahl) + ' * 10 EUR'\n",
    "\n",
    "    elif betrag >= 5:\n",
    "        anzahl = betrag // 5\n",
    "        rest = betrag % 5\n",
    "        if rest != 0:\n",
    "            return str(anzahl) + ' * 5 EUR + ' + str(muenzen(rest))\n",
    "        else:\n",
    "            return str(anzahl) + ' * 5 EUR'\n",
    "\n",
    "    elif betrag >= 2:\n",
    "        anzahl = betrag // 2\n",
    "        rest = betrag % 2\n",
    "        if rest != 0:\n",
    "            return str(anzahl) + ' * 2 EUR + ' + str(muenzen(rest))\n",
    "        else:\n",
    "            return str(anzahl) + ' * 2 EUR'\n",
    "\n",
    "    elif betrag >= 1:\n",
    "        anzahl = betrag // 1\n",
    "        rest = betrag % 1\n",
    "        if rest != 0:\n",
    "            return str(anzahl) + ' * 1 EUR + ' + str(muenzen(rest))\n",
    "        else:\n",
    "            return str(anzahl) + ' * 1 EUR'"
   ]
  },
  {
   "cell_type": "code",
   "execution_count": 39,
   "metadata": {},
   "outputs": [
    {
     "data": {
      "text/plain": [
       "'1 * 500 EUR + 1 * 50 EUR'"
      ]
     },
     "execution_count": 39,
     "metadata": {},
     "output_type": "execute_result"
    }
   ],
   "source": [
    "muenzen(550)"
   ]
  },
  {
   "cell_type": "code",
   "execution_count": 40,
   "metadata": {},
   "outputs": [],
   "source": [
    "def get_scheine(euro):\n",
    "    anz500 = 0\n",
    "    anz200 = 0\n",
    "    anz100 = 0\n",
    "    anz50 = 0\n",
    "    anz20 = 0\n",
    "    anz10 = 0\n",
    "    anz5 = 0\n",
    "    \n",
    "    rest = euro\n",
    "    \n",
    "    while rest > 0:\n",
    "        if rest // 500 > 0:\n",
    "            anz500 = rest // 500\n",
    "            rest = rest - (anz500 * 500)\n",
    "        elif rest // 200 > 0:\n",
    "            anz200 = rest // 200\n",
    "            rest = rest - (anz200 * 200)\n",
    "        elif rest // 100 > 0:\n",
    "            anz100 = rest // 100\n",
    "            rest = rest - (anz100 * 100)\n",
    "        elif rest // 50 > 0:\n",
    "            anz50 = rest // 50\n",
    "            rest = rest - (anz50 * 50)\n",
    "        elif rest // 20 > 0:\n",
    "            anz20 = rest // 20\n",
    "            rest = rest - (anz20 * 20)\n",
    "        elif rest // 10 > 0:\n",
    "            anz10 = rest // 10\n",
    "            rest = rest - (anz10 * 10)\n",
    "        elif rest // 5 > 0:\n",
    "            anz5 = rest // 5\n",
    "            rest = rest - (anz5 * 5)\n",
    "            \n",
    "    print(euro, 'kann aufgeteilt werden in:')\n",
    "    print(anz500, '500€')\n",
    "    print(anz200, '200€')\n",
    "    print(anz100, '100€')\n",
    "    print(anz50, '50€')\n",
    "    print(anz20, '20€')\n",
    "    print(anz10, '10€')\n",
    "    print(anz5, '5€')"
   ]
  },
  {
   "cell_type": "code",
   "execution_count": 41,
   "metadata": {},
   "outputs": [
    {
     "name": "stdout",
     "output_type": "stream",
     "text": [
      "550 kann aufgeteilt werden in:\n",
      "1 500€\n",
      "0 200€\n",
      "0 100€\n",
      "1 50€\n",
      "0 20€\n",
      "0 10€\n",
      "0 5€\n"
     ]
    }
   ],
   "source": [
    "get_scheine(550)"
   ]
  },
  {
   "cell_type": "markdown",
   "metadata": {},
   "source": [
    "**Aufgabe 2-7:**\n",
    "\n",
    "Sortieren Sie eine mit Zufallszahlen zwischen 1 und 100 belegte Liste (mindestens 50 Elemente)\n",
    "nach dem Bubble – Sort – Verfahren! Geben Sie die Liste vor und nach der Sortierung\n",
    "aus! Hinweis: In einem Zyklus werden zwei benachbarte Elemente vertauscht, wenn sie in\n",
    "falscher Reihenfolge sind. Dieser Zyklus wird solange wiederholt, bis keine Vertauschung mehr\n",
    "erforderlich ist."
   ]
  },
  {
   "cell_type": "code",
   "execution_count": 42,
   "metadata": {},
   "outputs": [
    {
     "name": "stdout",
     "output_type": "stream",
     "text": [
      "[82, 42, 17, 55, 63, 82, 100, 88, 30, 69, 60, 23, 2, 33, 59, 83, 49, 87, 96, 57, 15, 72, 56, 78, 51, 16, 0, 93, 88, 63, 49, 40, 24, 32, 5, 35, 52, 64, 44, 88, 32, 71, 54, 68, 95, 96, 70, 70, 26, 24]\n"
     ]
    }
   ],
   "source": [
    "import random\n",
    "\n",
    "feld = [random.randint(1, 10) for i in range(100)]\n",
    "\n",
    "print(feld)"
   ]
  },
  {
   "cell_type": "code",
   "execution_count": 43,
   "metadata": {},
   "outputs": [
    {
     "name": "stdout",
     "output_type": "stream",
     "text": [
      "[0, 2, 5, 15, 16, 17, 23, 24, 24, 26, 30, 32, 32, 33, 35, 40, 42, 44, 49, 49, 51, 52, 54, 55, 56, 57, 59, 60, 63, 63, 64, 68, 69, 70, 70, 71, 72, 78, 82, 82, 83, 87, 88, 88, 88, 93, 95, 96, 96, 100]\n"
     ]
    }
   ],
   "source": [
    "not_done = True\n",
    "\n",
    "while not_done:\n",
    "    not_done = False\n",
    "    \n",
    "    for i in range(len(feld) - 1):\n",
    "        if feld[i] > feld[i + 1]:\n",
    "            temp = feld[i]\n",
    "            feld[i] = feld[i + 1]\n",
    "            feld[i + 1] = temp\n",
    "            \n",
    "            not_done = True\n",
    "            \n",
    "print(feld)"
   ]
  },
  {
   "cell_type": "code",
   "execution_count": 44,
   "metadata": {},
   "outputs": [
    {
     "name": "stdout",
     "output_type": "stream",
     "text": [
      "[37, 14, 9, 4, 8, 68, 6, 80, 19, 62, 97, 65, 21, 25, 28, 30, 73, 45, 33, 3, 94, 70, 29, 74, 11, 64, 57, 66, 70, 67, 10, 31, 77, 14, 5, 8, 96, 78, 50, 23, 74, 18, 3, 95, 13, 50, 70, 86, 76, 66]\n",
      "\n",
      "[3, 3, 4, 5, 6, 8, 8, 9, 10, 11, 13, 14, 14, 18, 19, 21, 23, 25, 28, 29, 30, 31, 33, 37, 45, 50, 50, 57, 62, 64, 65, 66, 66, 67, 68, 70, 70, 70, 73, 74, 74, 76, 77, 78, 80, 86, 94, 95, 96, 97]\n"
     ]
    }
   ],
   "source": [
    "import random\n",
    "\n",
    "list1 = []\n",
    "\n",
    "for i in range(50):\n",
    "    random1 = random.randint(1, 100)\n",
    "    list1.append(random1)\n",
    "\n",
    "print(list1)\n",
    "print()\n",
    "\n",
    "for i in range(len(list1)):\n",
    "    for j in range(len(list1) - 1):\n",
    "        if list1[j] > list1[j + 1]:\n",
    "            merke = list1[j]\n",
    "            list1[j] = list1[j + 1]\n",
    "            list1[j + 1] = merke\n",
    "\n",
    "print(list1)"
   ]
  },
  {
   "cell_type": "markdown",
   "metadata": {},
   "source": [
    "**Aufgabe 2-8:**\n",
    "\n",
    "Belegen Sie eine Liste (mindestens 100 Elemente) mit Zufallszahlen zwischen 1 und 10!\n",
    "Ermitteln Sie die Häufigkeit der einzelnen Zahlen!"
   ]
  },
  {
   "cell_type": "code",
   "execution_count": 45,
   "metadata": {},
   "outputs": [
    {
     "name": "stdout",
     "output_type": "stream",
     "text": [
      "[3, 6, 5, 3, 3, 4, 1, 7, 9, 1, 9, 9, 4, 10, 10, 7, 5, 4, 7, 8, 2, 6, 7, 4, 4, 10, 4, 10, 2, 3, 9, 3, 4, 5, 4, 10, 8, 10, 6, 9, 6, 4, 2, 5, 9, 1, 2, 5, 4, 5, 6, 7, 6, 9, 1, 5, 3, 9, 9, 7, 6, 2, 3, 7, 4, 10, 1, 3, 2, 3, 5, 4, 5, 3, 4, 8, 10, 10, 6, 7, 7, 5, 4, 2, 9, 9, 10, 3, 10, 3, 10, 7, 10, 1, 9, 8, 9, 7, 4, 6]\n",
      "\n",
      "6 x 1\n",
      "7 x 2\n",
      "12 x 3\n",
      "15 x 4\n",
      "10 x 5\n",
      "9 x 6\n",
      "11 x 7\n",
      "4 x 8\n",
      "13 x 9\n",
      "13 x 10\n"
     ]
    }
   ],
   "source": [
    "import random\n",
    "\n",
    "list2 = []\n",
    "\n",
    "for i in range(100):\n",
    "    random1 = random.randint(1, 10)\n",
    "    list2.append(random1)\n",
    "\n",
    "print(list2)\n",
    "print()\n",
    "\n",
    "for j in range(1, 11):\n",
    "    counter = 0\n",
    "    for i in range(len(list2)):\n",
    "        if list2[i] == j:\n",
    "            counter = counter + 1\n",
    "    print(str(counter) + ' x ' + str(j))"
   ]
  },
  {
   "cell_type": "code",
   "execution_count": 48,
   "metadata": {},
   "outputs": [
    {
     "name": "stdout",
     "output_type": "stream",
     "text": [
      "[13, 9, 7, 7, 7, 9, 12, 10, 12, 14]\n"
     ]
    }
   ],
   "source": [
    "feld = [random.randint(1, 10) for i in range(100)]\n",
    "\n",
    "haeufigkeiten = [0 for i in range(10)]\n",
    "\n",
    "for i in range(len(feld)):\n",
    "    haeufigkeiten[feld[i] - 1] = haeufigkeiten[feld[i] - 1] + 1\n",
    "    \n",
    "print(haeufigkeiten)"
   ]
  },
  {
   "cell_type": "markdown",
   "metadata": {},
   "source": [
    "**Aufgabe 2-9:**\n",
    "\n",
    "Schreiben Sie eine Funktion, die eine Zeichenkette einliest und diese rückwärts wieder ausgibt."
   ]
  },
  {
   "cell_type": "code",
   "execution_count": 49,
   "metadata": {},
   "outputs": [
    {
     "name": "stdout",
     "output_type": "stream",
     "text": [
      "!dlroW olleH\n"
     ]
    }
   ],
   "source": [
    "def ruekwaerts(s):\n",
    "    st = ''\n",
    "    for i in range(len(s) - 1, -1, -1):\n",
    "        st = st + s[i]\n",
    "        \n",
    "    print(st)\n",
    "    \n",
    "ruekwaerts('Hello World!')"
   ]
  },
  {
   "cell_type": "markdown",
   "metadata": {},
   "source": [
    "**Aufgabe 2-10:**\n",
    "\n",
    "Berechnen Sie die Quersumme einer ganzen Zahl!"
   ]
  },
  {
   "cell_type": "code",
   "execution_count": 58,
   "metadata": {},
   "outputs": [
    {
     "name": "stdout",
     "output_type": "stream",
     "text": [
      "11\n"
     ]
    }
   ],
   "source": [
    "zahl = 254\n",
    "quersumme = 0\n",
    "\n",
    "for x in str(zahl):\n",
    "    quersumme = quersumme + int(x)\n",
    "\n",
    "print(quersumme)"
   ]
  },
  {
   "cell_type": "code",
   "execution_count": 59,
   "metadata": {},
   "outputs": [],
   "source": [
    "def quersumme(zahl):\n",
    "    qsum = 0\n",
    "    \n",
    "    for i in range(len(str(zahl)) - 1, -1, -1):\n",
    "        qsum = qsum + int(str(zahl)[i])\n",
    "    \n",
    "    return qsum"
   ]
  },
  {
   "cell_type": "code",
   "execution_count": 60,
   "metadata": {},
   "outputs": [
    {
     "data": {
      "text/plain": [
       "11"
      ]
     },
     "execution_count": 60,
     "metadata": {},
     "output_type": "execute_result"
    }
   ],
   "source": [
    "quersumme(254)"
   ]
  }
 ],
 "metadata": {
  "kernelspec": {
   "display_name": "Python 3",
   "language": "python",
   "name": "python3"
  },
  "language_info": {
   "codemirror_mode": {
    "name": "ipython",
    "version": 3
   },
   "file_extension": ".py",
   "mimetype": "text/x-python",
   "name": "python",
   "nbconvert_exporter": "python",
   "pygments_lexer": "ipython3",
   "version": "3.6.7"
  }
 },
 "nbformat": 4,
 "nbformat_minor": 4
}
